{
 "cells": [
  {
   "cell_type": "code",
   "execution_count": 194,
   "metadata": {
    "collapsed": false
   },
   "outputs": [],
   "source": [
    "# The file where training, testing, and visualizing the model takes place\n",
    "\n",
    "# import our helper files\n",
    "from model_architecture_staff import *\n",
    "# switch out this import statement when working with different datasets\n",
    "from MNIST_preprocessing_staff import *\n",
    "# for saving training history\n",
    "import pickle\n",
    "\n",
    "\n",
    "\n",
    "# for tensorboard\n",
    "from time import time\n",
    "from keras.callbacks import TensorBoard"
   ]
  },
  {
   "cell_type": "code",
   "execution_count": 195,
   "metadata": {
    "collapsed": true
   },
   "outputs": [],
   "source": [
    "keras.backend.clear_session()"
   ]
  },
  {
   "cell_type": "code",
   "execution_count": 196,
   "metadata": {
    "collapsed": false
   },
   "outputs": [
    {
     "name": "stdout",
     "output_type": "stream",
     "text": [
      "(60000, 28, 28)\n",
      "[[  0   0   0   0   0   0   0   0   0   0   0   0   0   0   0   0   0   0\n",
      "    0   0   0   0   0   0   0   0   0   0]\n",
      " [  0   0   0   0   0   0   0   0   0   0   0   0   0   0   0   0   0   0\n",
      "    0   0   0   0   0   0   0   0   0   0]\n",
      " [  0   0   0   0   0   0   0   0   0   0   0   0   0   0   0   0   0   0\n",
      "    0   0   0   0   0   0   0   0   0   0]\n",
      " [  0   0   0   0   0   0   0   0   0   0   0   0   0   0   0   0   0   0\n",
      "    0   0   0   0   0   0   0   0   0   0]\n",
      " [  0   0   0   0   0   0   0   0   0   0   0   0   0   0   0   0   0   0\n",
      "    0   0   0   0   0   0   0   0   0   0]\n",
      " [  0   0   0   0   0   0   0   0   0   0   0   0   3  18  18  18 126 136\n",
      "  175  26 166 255 247 127   0   0   0   0]\n",
      " [  0   0   0   0   0   0   0   0  30  36  94 154 170 253 253 253 253 253\n",
      "  225 172 253 242 195  64   0   0   0   0]\n",
      " [  0   0   0   0   0   0   0  49 238 253 253 253 253 253 253 253 253 251\n",
      "   93  82  82  56  39   0   0   0   0   0]\n",
      " [  0   0   0   0   0   0   0  18 219 253 253 253 253 253 198 182 247 241\n",
      "    0   0   0   0   0   0   0   0   0   0]\n",
      " [  0   0   0   0   0   0   0   0  80 156 107 253 253 205  11   0  43 154\n",
      "    0   0   0   0   0   0   0   0   0   0]\n",
      " [  0   0   0   0   0   0   0   0   0  14   1 154 253  90   0   0   0   0\n",
      "    0   0   0   0   0   0   0   0   0   0]\n",
      " [  0   0   0   0   0   0   0   0   0   0   0 139 253 190   2   0   0   0\n",
      "    0   0   0   0   0   0   0   0   0   0]\n",
      " [  0   0   0   0   0   0   0   0   0   0   0  11 190 253  70   0   0   0\n",
      "    0   0   0   0   0   0   0   0   0   0]\n",
      " [  0   0   0   0   0   0   0   0   0   0   0   0  35 241 225 160 108   1\n",
      "    0   0   0   0   0   0   0   0   0   0]\n",
      " [  0   0   0   0   0   0   0   0   0   0   0   0   0  81 240 253 253 119\n",
      "   25   0   0   0   0   0   0   0   0   0]\n",
      " [  0   0   0   0   0   0   0   0   0   0   0   0   0   0  45 186 253 253\n",
      "  150  27   0   0   0   0   0   0   0   0]\n",
      " [  0   0   0   0   0   0   0   0   0   0   0   0   0   0   0  16  93 252\n",
      "  253 187   0   0   0   0   0   0   0   0]\n",
      " [  0   0   0   0   0   0   0   0   0   0   0   0   0   0   0   0   0 249\n",
      "  253 249  64   0   0   0   0   0   0   0]\n",
      " [  0   0   0   0   0   0   0   0   0   0   0   0   0   0  46 130 183 253\n",
      "  253 207   2   0   0   0   0   0   0   0]\n",
      " [  0   0   0   0   0   0   0   0   0   0   0   0  39 148 229 253 253 253\n",
      "  250 182   0   0   0   0   0   0   0   0]\n",
      " [  0   0   0   0   0   0   0   0   0   0  24 114 221 253 253 253 253 201\n",
      "   78   0   0   0   0   0   0   0   0   0]\n",
      " [  0   0   0   0   0   0   0   0  23  66 213 253 253 253 253 198  81   2\n",
      "    0   0   0   0   0   0   0   0   0   0]\n",
      " [  0   0   0   0   0   0  18 171 219 253 253 253 253 195  80   9   0   0\n",
      "    0   0   0   0   0   0   0   0   0   0]\n",
      " [  0   0   0   0  55 172 226 253 253 253 253 244 133  11   0   0   0   0\n",
      "    0   0   0   0   0   0   0   0   0   0]\n",
      " [  0   0   0   0 136 253 253 253 212 135 132  16   0   0   0   0   0   0\n",
      "    0   0   0   0   0   0   0   0   0   0]\n",
      " [  0   0   0   0   0   0   0   0   0   0   0   0   0   0   0   0   0   0\n",
      "    0   0   0   0   0   0   0   0   0   0]\n",
      " [  0   0   0   0   0   0   0   0   0   0   0   0   0   0   0   0   0   0\n",
      "    0   0   0   0   0   0   0   0   0   0]\n",
      " [  0   0   0   0   0   0   0   0   0   0   0   0   0   0   0   0   0   0\n",
      "    0   0   0   0   0   0   0   0   0   0]]\n"
     ]
    }
   ],
   "source": [
    "from keras.datasets import mnist\n",
    "\n",
    "(X_train, Y_train), (X_test, Y_test) = mnist.load_data()\n",
    "print(X_train.shape)\n",
    "print(X_train[0])"
   ]
  },
  {
   "cell_type": "code",
   "execution_count": 197,
   "metadata": {
    "collapsed": false
   },
   "outputs": [
    {
     "name": "stdout",
     "output_type": "stream",
     "text": [
      "The shape of each image: (28, 28)\n",
      "An example training image:\n"
     ]
    },
    {
     "data": {
      "image/png": "[encoded data removed]",
      "text/plain": [
       "<Figure size 432x288 with 1 Axes>"
      ]
     },
     "metadata": {},
     "output_type": "display_data"
    },
    {
     "name": "stdout",
     "output_type": "stream",
     "text": [
      "Label: 5\n"
     ]
    }
   ],
   "source": [
    "# load our data\n",
    "(X_train, Y_train), (X_test, Y_test) = preprocess_mnist()"
   ]
  },
  {
   "cell_type": "code",
   "execution_count": 198,
   "metadata": {
    "collapsed": false
   },
   "outputs": [],
   "source": [
    "# create our model's architecture\n",
    "model = create_model(28,28,1,10)"
   ]
  },
  {
   "cell_type": "code",
   "execution_count": 199,
   "metadata": {
    "collapsed": true
   },
   "outputs": [],
   "source": [
    "# compile our model and train our model\n",
    "model.compile(loss=keras.losses.categorical_crossentropy, #\n",
    "             optimizer=keras.optimizers.Adam(), #students can choose optimizers \n",
    "             metrics=['accuracy'])"
   ]
  },
  {
   "cell_type": "code",
   "execution_count": 200,
   "metadata": {
    "collapsed": false
   },
   "outputs": [],
   "source": [
    "# experimenting with tensorboard\n",
    "\n",
    "tensorboard = TensorBoard(log_dir=\"logs/run_test\", write_graph=True)"
   ]
  },
  {
   "cell_type": "code",
   "execution_count": 201,
   "metadata": {
    "collapsed": false
   },
   "outputs": [
    {
     "name": "stdout",
     "output_type": "stream",
     "text": [
      "Train on 60000 samples, validate on 10000 samples\n",
      "Epoch 1/5\n",
      "60000/60000 [==============================] - 8s 127us/step - loss: 0.3994 - acc: 0.8958 - val_loss: 0.1992 - val_acc: 0.9424\n",
      "Epoch 2/5\n",
      "60000/60000 [==============================] - 8s 135us/step - loss: 0.1668 - acc: 0.9528 - val_loss: 0.1266 - val_acc: 0.9661\n",
      "Epoch 3/5\n",
      "60000/60000 [==============================] - 8s 136us/step - loss: 0.1150 - acc: 0.9677 - val_loss: 0.1007 - val_acc: 0.9710\n",
      "Epoch 4/5\n",
      "60000/60000 [==============================] - 8s 128us/step - loss: 0.0897 - acc: 0.9752 - val_loss: 0.0827 - val_acc: 0.9750\n",
      "Epoch 5/5\n",
      "60000/60000 [==============================] - 8s 131us/step - loss: 0.0757 - acc: 0.9782 - val_loss: 0.0755 - val_acc: 0.9779\n"
     ]
    },
    {
     "data": {
      "text/plain": [
       "<keras.callbacks.History at 0xb260c8828>"
      ]
     },
     "execution_count": 201,
     "metadata": {},
     "output_type": "execute_result"
    }
   ],
   "source": [
    "model.fit(X_train, Y_train, verbose=1, batch_size = 128, epochs=5, validation_data=(X_test,Y_test), callbacks=[tensorboard])"
   ]
  },
  {
   "cell_type": "code",
   "execution_count": 40,
   "metadata": {
    "collapsed": false
   },
   "outputs": [
    {
     "name": "stdout",
     "output_type": "stream",
     "text": [
      "/Users/chloeloughridge/anaconda/lib/python3.5/importlib/_bootstrap.py:222: RuntimeWarning: compiletime version 3.6 of module 'tensorflow.python.framework.fast_tensor_util' does not match runtime version 3.5\n",
      "  return f(*args, **kwds)\n",
      "2018-07-30 10:44:02.143271: I tensorflow/core/platform/cpu_feature_guard.cc:140] Your CPU supports instructions that this TensorFlow binary was not compiled to use: AVX2 FMA\n",
      "TensorBoard 1.8.0 at http://Chloes-MacBook-Air-2.local:6006 (Press CTRL+C to quit)\n",
      "^C\n"
     ]
    }
   ],
   "source": [
    "# start tensorbaord server (i'm hoping)\n",
    "!tensorboard --logdir=logs/run_b"
   ]
  },
  {
   "cell_type": "code",
   "execution_count": 15,
   "metadata": {
    "collapsed": false
   },
   "outputs": [],
   "source": [
    "# save the model to a file\n",
    "model.save(\"mnistTest01\")\n",
    "# save the training history of the model --> you will submit this in addition to your model\n",
    "with open('./trainHistory', 'wb') as file_pi:\n",
    "    pickle.dump(train_history.history, file_pi)"
   ]
  },
  {
   "cell_type": "code",
   "execution_count": 20,
   "metadata": {
    "collapsed": true
   },
   "outputs": [],
   "source": [
    "# for staff evaluation eventually\n",
    "# opening the pickle file\n",
    "with open('./trainHistory', 'rb') as f:\n",
    "    history = pickle.load(f)"
   ]
  },
  {
   "cell_type": "code",
   "execution_count": 21,
   "metadata": {
    "collapsed": false
   },
   "outputs": [
    {
     "name": "stdout",
     "output_type": "stream",
     "text": [
      "[0.896, 0.9177, 0.9348]\n"
     ]
    }
   ],
   "source": [
    "print(history['val_acc'])"
   ]
  },
  {
   "cell_type": "code",
   "execution_count": 22,
   "metadata": {
    "collapsed": false
   },
   "outputs": [
    {
     "name": "stdout",
     "output_type": "stream",
     "text": [
      "0.9348\n"
     ]
    }
   ],
   "source": [
    "max_val = 0\n",
    "for acc_score in history['val_acc']:\n",
    "    if acc_score > max_val:\n",
    "        max_val = acc_score\n",
    "        \n",
    "print(max_val)"
   ]
  },
  {
   "cell_type": "code",
   "execution_count": 2,
   "metadata": {
    "collapsed": false
   },
   "outputs": [
    {
     "name": "stderr",
     "output_type": "stream",
     "text": [
      "Using TensorFlow backend.\n",
      "/Users/chloeloughridge/anaconda/lib/python3.5/importlib/_bootstrap.py:222: RuntimeWarning: compiletime version 3.6 of module 'tensorflow.python.framework.fast_tensor_util' does not match runtime version 3.5\n",
      "  return f(*args, **kwds)\n"
     ]
    }
   ],
   "source": [
    "# checking something with Keras\n",
    "\n",
    "from keras.datasets import mnist"
   ]
  },
  {
   "cell_type": "code",
   "execution_count": 3,
   "metadata": {
    "collapsed": false
   },
   "outputs": [
    {
     "name": "stdout",
     "output_type": "stream",
     "text": [
      "(60000, 28, 28)\n"
     ]
    }
   ],
   "source": [
    "(X_train, Y_train), (X_test, Y_test) = mnist.load_data()\n",
    "print(X_train.shape)"
   ]
  },
  {
   "cell_type": "code",
   "execution_count": 58,
   "metadata": {
    "collapsed": false
   },
   "outputs": [
    {
     "data": {
      "text/plain": [
       "0"
      ]
     },
     "execution_count": 58,
     "metadata": {},
     "output_type": "execute_result"
    }
   ],
   "source": [
    "# copying text automatically to clipboard\n",
    "import os \n",
    "data = 'localhost:{}'.format(6006)\n",
    "os.system(\"echo '%s' | pbcopy\" % data)"
   ]
  },
  {
   "cell_type": "code",
   "execution_count": 72,
   "metadata": {
    "collapsed": false
   },
   "outputs": [
    {
     "name": "stdout",
     "output_type": "stream",
     "text": [
      "[b'USER               PID  %CPU %MEM      VSZ    RSS   TT  STAT STARTED      TIME COMMAND\\n', b'chloeloughridge  41355  22.3  2.7  4534500 222552   ??  Rs    3:34PM  13:09.96 /System/Library/StagedFrameworks/Safari/WebKit.framework/Versions/A/XPCServices/com.apple.WebKit.WebContent.xpc/Contents/MacOS/com.apple.WebKit.WebContent\\n', b'chloeloughridge  40888   7.1  1.1  3906820  93432   ??  S    Sat09PM   3:46.24 /Applications/Safari.app/Contents/MacOS/Safari\\n', b'chloeloughridge  41712   5.8  1.2 116877188  96932   ??  Ss    9:37AM  13:27.99 /Users/chloeloughridge/anaconda/bin/python -m ipykernel -f /Users/chloeloughridge/Library/Jupyter/runtime/kernel-c330f836-219b-4c0d-b7ac-31961f599d37.json\\n', b'_windowserver      158   5.2  0.5  3837924  45168   ??  Rs   29Jun18 566:19.41 /System/Library/Frameworks/ApplicationServices.framework/Frameworks/CoreGraphics.framework/Resources/WindowServer -daemon\\n', b'root                99   2.7  0.0  2473700   2136   ??  Ss   29Jun18  81:01.95 /usr/libexec/hidd\\n', b'chloeloughridge  40877   1.5  0.2  2477624  20576 s000  S+   Sat09PM   0:32.65 /Users/chloeloughridge/anaconda/bin/python /Users/chloeloughridge/anaconda/bin/jupyter-notebook\\n', b'chloeloughridge    257   0.4  4.9  5274972 411400   ??  S    29Jun18 836:30.98 /Applications/Google Chrome.app/Contents/MacOS/Google Chrome -psn_0_45067\\n', b'chloeloughridge  41393   0.1  1.4  3513984 115204   ??  S     4:03PM   1:27.58 /Applications/Google Chrome.app/Contents/Versions/67.0.3396.99/Google Chrome Helper.app/Contents/MacOS/Google Chrome Helper --type=renderer --field-trial-handle=7498246347878744576,14478033313489745728,131072 --service-pipe-token=CF9A73B4705CA95AC1BEAA7E7735B933 --lang=en-US --enable-offline-auto-reload --enable-offline-auto-reload-visible-only --num-raster-threads=2 --enable-zero-copy --enable-gpu-memory-buffer-compositor-resources --enable-main-frame-before-activation --service-request-channel-token=CF9A73B4705CA95AC1BEAA7E7735B933 --renderer-client-id=8265\\n', b'chloeloughridge  24021   0.1  0.8  3956432  69764   ??  U    16Jul18  30:50.70 /Applications/Google Chrome.app/Contents/Versions/67.0.3396.99/Google Chrome Helper.app/Contents/MacOS/Google Chrome Helper --type=renderer --field-trial-handle=7498246347878744576,14478033313489745728,131072 --service-pipe-token=9A02EC28273D039312CBFCF00D29BCD7 --lang=en-US --enable-offline-auto-reload --enable-offline-auto-reload-visible-only --num-raster-threads=2 --enable-zero-copy --enable-gpu-memory-buffer-compositor-resources --enable-main-frame-before-activation --service-request-channel-token=9A02EC28273D039312CBFCF00D29BCD7 --renderer-client-id=4303\\n', b'chloeloughridge  30771   0.1  2.0  4312220 164364   ??  U    23Jul18  28:41.50 /Applications/Google Chrome.app/Contents/Versions/67.0.3396.99/Google Chrome Helper.app/Contents/MacOS/Google Chrome Helper --type=renderer --field-trial-handle=7498246347878744576,14478033313489745728,131072 --service-pipe-token=BE87D974AD5AECCF8900580927C1AEEB --lang=en-US --enable-offline-auto-reload --enable-offline-auto-reload-visible-only --num-raster-threads=2 --enable-zero-copy --enable-gpu-memory-buffer-compositor-resources --enable-main-frame-before-activation --service-request-channel-token=BE87D974AD5AECCF8900580927C1AEEB --renderer-client-id=6402\\n', b'chloeloughridge  40892   0.1  0.1  3657716  10836   ??  Ss   Sat09PM   0:25.16 /System/Library/StagedFrameworks/Safari/WebKit.framework/Versions/A/XPCServices/com.apple.WebKit.Networking.xpc/Contents/MacOS/com.apple.WebKit.Networking\\n', b'chloeloughridge    562   0.1  3.4  5058116 285124   ??  S    30Jun18 150:52.07 /Applications/Google Chrome.app/Contents/Versions/67.0.3396.99/Google Chrome Helper.app/Contents/MacOS/Google Chrome Helper --type=renderer --field-trial-handle=7498246347878744576,14478033313489745728,131072 --service-pipe-token=FE4E8DA7A038CDA9E1DFABB72B052E76 --lang=en-US --extension-process --enable-offline-auto-reload --enable-offline-auto-reload-visible-only --num-raster-threads=2 --enable-zero-copy --enable-gpu-memory-buffer-compositor-resources --enable-main-frame-before-activation --service-request-channel-token=FE4E8DA7A038CDA9E1DFABB72B052E76 --renderer-client-id=14\\n', b'chloeloughridge  42842   0.0  0.7  3464028  59360   ??  S     1:04PM   0:04.46 /Applications/Google Chrome.app/Contents/Versions/67.0.3396.99/Google Chrome Helper.app/Contents/MacOS/Google Chrome Helper --type=renderer --field-trial-handle=7498246347878744576,14478033313489745728,131072 --service-pipe-token=466E868F5E43C378D5807B164FA1CBD6 --lang=en-US --enable-offline-auto-reload --enable-offline-auto-reload-visible-only --num-raster-threads=2 --enable-zero-copy --enable-gpu-memory-buffer-compositor-resources --enable-main-frame-before-activation --service-request-channel-token=466E868F5E43C378D5807B164FA1CBD6 --renderer-client-id=8565\\n', b'chloeloughridge  42836   0.0  1.5  3490580 122908   ??  S     1:04PM   0:01.71 /Applications/Google Chrome.app/Contents/Versions/67.0.3396.99/Google Chrome Helper.app/Contents/MacOS/Google Chrome Helper --type=renderer --field-trial-handle=7498246347878744576,14478033313489745728,131072 --service-pipe-token=0AC8C94FADF27597D533D0C76A8E268B --lang=en-US --enable-offline-auto-reload --enable-offline-auto-reload-visible-only --num-raster-threads=2 --enable-zero-copy --enable-gpu-memory-buffer-compositor-resources --enable-main-frame-before-activation --service-request-channel-token=0AC8C94FADF27597D533D0C76A8E268B --renderer-client-id=8562\\n', b'root             42670   0.0  0.1  2498868   4620   ??  Ss   12:53PM   0:00.11 /usr/sbin/ocspd\\n', b'chloeloughridge  42641   0.0  0.1  2497028   8852   ??  S    12:51PM   0:00.48 /System/Library/PrivateFrameworks/AOSKit.framework/Versions/A/XPCServices/com.apple.iCloudHelper.xpc/Contents/MacOS/com.apple.iCloudHelper\\n', b'_spotlight       42587   0.0  0.1  2500952   9516   ??  S    12:46PM   0:00.06 /System/Library/Frameworks/CoreServices.framework/Frameworks/Metadata.framework/Versions/A/Support/mdworker -s mdworker -c MDSImporterWorker -m com.apple.mdworker.shared\\n', b'chloeloughridge  42541   0.0  0.7  3417000  56320   ??  S    12:42PM   0:13.98 /Applications/Google Chrome.app/Contents/Versions/67.0.3396.99/Google Chrome Helper.app/Contents/MacOS/Google Chrome Helper --type=renderer --field-trial-handle=7498246347878744576,14478033313489745728,131072 --service-pipe-token=9C42A05AB06B3D2E74BB081DF17B2E3E --lang=en-US --enable-offline-auto-reload --enable-offline-auto-reload-visible-only --num-raster-threads=2 --enable-zero-copy --enable-gpu-memory-buffer-compositor-resources --enable-main-frame-before-activation --service-request-channel-token=9C42A05AB06B3D2E74BB081DF17B2E3E --renderer-client-id=8526\\n', b'chloeloughridge  42469   0.0  0.2  2513956  19816   ??  S    12:36PM   0:01.99 /System/Library/Frameworks/CoreServices.framework/Frameworks/Metadata.framework/Versions/A/Support/mdworker -s mdworker -c MDSImporterWorker -m com.apple.mdworker.shared\\n', b'chloeloughridge  42468   0.0  0.2  2518392  18912   ??  S    12:36PM   0:02.38 /System/Library/Frameworks/CoreServices.framework/Frameworks/Metadata.framework/Versions/A/Support/mdworker -s mdworker -c MDSImporterWorker -m com.apple.mdworker.shared\\n', b'chloeloughridge  42467   0.0  0.3  2514048  23728   ??  S    12:36PM   0:02.33 /System/Library/Frameworks/CoreServices.framework/Frameworks/Metadata.framework/Versions/A/Support/mdworker -s mdworker -c MDSImporterWorker -m com.apple.mdworker.shared\\n', b'chloeloughridge  42460   0.0  0.2  2515756  17352   ??  S    12:36PM   0:01.65 /System/Library/Frameworks/CoreServices.framework/Frameworks/Metadata.framework/Versions/A/Support/mdworker -s mdworker -c MDSImporterWorker -m com.apple.mdworker.shared\\n', b'chloeloughridge  42197   0.0  0.7  3426224  56748   ??  S    12:17PM   0:11.14 /Applications/Google Chrome.app/Contents/Versions/67.0.3396.99/Google Chrome Helper.app/Contents/MacOS/Google Chrome Helper --type=renderer --field-trial-handle=7498246347878744576,14478033313489745728,131072 --service-pipe-token=7AF3A89AB6E58E65001ED9BCD83A5E71 --lang=en-US --enable-offline-auto-reload --enable-offline-auto-reload-visible-only --num-raster-threads=2 --enable-zero-copy --enable-gpu-memory-buffer-compositor-resources --enable-main-frame-before-activation --service-request-channel-token=7AF3A89AB6E58E65001ED9BCD83A5E71 --renderer-client-id=8513\\n', b'chloeloughridge  42185   0.0  1.1  3358080  96224   ??  S    12:16PM   0:05.87 /Applications/Google Chrome.app/Contents/Versions/67.0.3396.99/Google Chrome Helper.app/Contents/MacOS/Google Chrome Helper --type=renderer --field-trial-handle=7498246347878744576,14478033313489745728,131072 --service-pipe-token=3111B94CC0D0249122FECC66D8DB3A29 --lang=en-US --enable-offline-auto-reload --enable-offline-auto-reload-visible-only --num-raster-threads=2 --enable-zero-copy --enable-gpu-memory-buffer-compositor-resources --enable-main-frame-before-activation --service-request-channel-token=3111B94CC0D0249122FECC66D8DB3A29 --renderer-client-id=8510\\n', b'chloeloughridge  42061   0.0  0.2  3261144  19168   ??  S    12:08PM   0:00.22 /Users/chloeloughridge/anaconda/libexec/QtWebEngineProcess --type=renderer --enable-threaded-compositing --no-sandbox --use-gl=desktop --lang=en --enable-delegated-renderer --num-raster-threads=2 --gpu-rasterization-msaa-sample-count=8 --content-image-texture-target=3553 --video-image-texture-target=3553 --channel=42036.8.810520325\\n', b'chloeloughridge  42058   0.0  0.7 117463716  61740   ??  Ss   12:08PM   2:49.31 /Users/chloeloughridge/anaconda/bin/python /Users/chloeloughridge/anaconda/lib/python3.5/site-packages/spyder/utils/ipython/start_kernel.py -f /Users/chloeloughridge/Library/Jupyter/runtime/kernel-2a0b9611ea7e.json\\n', b'chloeloughridge  42044   0.0  0.2  3248968  18300   ??  S    12:08PM   0:00.22 /Users/chloeloughridge/anaconda/libexec/QtWebEngineProcess --type=renderer --enable-threaded-compositing --no-sandbox --use-gl=desktop --lang=en --enable-delegated-renderer --num-raster-threads=2 --gpu-rasterization-msaa-sample-count=8 --content-image-texture-target=3553 --video-image-texture-target=3553 --channel=42036.4.11893540\\n', b'chloeloughridge  42043   0.0  0.2 44524288  20272   ??  S    12:08PM   0:03.89 /Users/chloeloughridge/anaconda/bin/python -u plugin_server.py 64787 fallback\\n', b'chloeloughridge  42042   0.0  0.2 44591668  20468   ??  S    12:08PM   0:08.24 /Users/chloeloughridge/anaconda/bin/python -u plugin_server.py 64786 jedi\\n', b'chloeloughridge  42041   0.0  0.2 44546408  20172   ??  S    12:08PM   0:11.09 /Users/chloeloughridge/anaconda/bin/python -u plugin_server.py 64785 rope\\n', b'chloeloughridge  42040   0.0  0.3  3272452  21996   ??  S    12:08PM   0:00.25 /Users/chloeloughridge/anaconda/libexec/QtWebEngineProcess --type=renderer --enable-threaded-compositing --no-sandbox --use-gl=desktop --lang=en --enable-delegated-renderer --num-raster-threads=2 --gpu-rasterization-msaa-sample-count=8 --content-image-texture-target=3553 --video-image-texture-target=3553 --channel=42036.2.979789252\\n', b'chloeloughridge  42036   0.0  1.1 45189060  91296   ??  S    12:08PM   3:25.20 /Users/chloeloughridge/anaconda/python.app/Contents/MacOS/python /Users/chloeloughridge/anaconda/bin/spyder\\n', b'chloeloughridge  42035   0.0  0.0  2435432    628   ??  S    12:08PM   0:00.01 /bin/bash /Users/chloeloughridge/anaconda/bin/pythonw /Users/chloeloughridge/anaconda/bin/spyder\\n', b'chloeloughridge  42024   0.0  0.0  2445672    688   ??  S    12:07PM   0:00.01 bash /Users/chloeloughridge/.anaconda/navigator/scripts/spyder.sh\\n', b'chloeloughridge  41977   0.0  0.5  2795748  44452   ??  S    12:07PM   0:23.08 /Users/chloeloughridge/anaconda/bin/python /Users/chloeloughridge/anaconda/bin/anaconda-navigator\\n', b'chloeloughridge  41969   0.0  0.0  2463084    692   ??  S    12:06PM   0:00.03 /bin/sh /Users/chloeloughridge/anaconda/Anaconda-Navigator.app/Contents/MacOS/run.sh\\n', b'chloeloughridge  41961   0.0  0.7  3412788  55984   ??  S    11:47AM   0:06.88 /Applications/Google Chrome.app/Contents/Versions/67.0.3396.99/Google Chrome Helper.app/Contents/MacOS/Google Chrome Helper --type=renderer --field-trial-handle=7498246347878744576,14478033313489745728,131072 --service-pipe-token=449C6F6B9DEA9F6485C686F8D9F7FE9C --lang=en-US --enable-offline-auto-reload --enable-offline-auto-reload-visible-only --num-raster-threads=2 --enable-zero-copy --enable-gpu-memory-buffer-compositor-resources --enable-main-frame-before-activation --service-request-channel-token=449C6F6B9DEA9F6485C686F8D9F7FE9C --renderer-client-id=8494\\n', b'root             41894   0.0  0.0  2498040   3112   ??  Ss   10:46AM   0:00.04 /System/Library/PrivateFrameworks/TCC.framework/Resources/tccd system\\n', b'chloeloughridge  41862   0.0  0.6  3365904  50660   ??  S    10:26AM   0:02.45 /Applications/Google Chrome.app/Contents/Versions/67.0.3396.99/Google Chrome Helper.app/Contents/MacOS/Google Chrome Helper --type=renderer --field-trial-handle=7498246347878744576,14478033313489745728,131072 --service-pipe-token=D8808604059C87CEBAD3B7BD5B8F0D89 --lang=en-US --enable-offline-auto-reload --enable-offline-auto-reload-visible-only --num-raster-threads=2 --enable-zero-copy --enable-gpu-memory-buffer-compositor-resources --enable-main-frame-before-activation --service-request-channel-token=D8808604059C87CEBAD3B7BD5B8F0D89 --renderer-client-id=8441\\n', b'chloeloughridge  41861   0.0  0.6  3426404  53480   ??  S    10:26AM   0:12.97 /Applications/Google Chrome.app/Contents/Versions/67.0.3396.99/Google Chrome Helper.app/Contents/MacOS/Google Chrome Helper --type=renderer --field-trial-handle=7498246347878744576,14478033313489745728,131072 --service-pipe-token=0B2B8DC4AB7D1D51C99539D95D07D1A6 --lang=en-US --enable-offline-auto-reload --enable-offline-auto-reload-visible-only --num-raster-threads=2 --enable-zero-copy --enable-gpu-memory-buffer-compositor-resources --enable-main-frame-before-activation --service-request-channel-token=0B2B8DC4AB7D1D51C99539D95D07D1A6 --renderer-client-id=8440\\n', b'chloeloughridge  41834   0.0  0.6  3374392  52972   ??  S    10:10AM   0:26.85 /Applications/Google Chrome.app/Contents/Versions/67.0.3396.99/Google Chrome Helper.app/Contents/MacOS/Google Chrome Helper --type=renderer --field-trial-handle=7498246347878744576,14478033313489745728,131072 --service-pipe-token=F2B6CF79C9FC8D45E3988A665BA1D3A7 --lang=en-US --enable-offline-auto-reload --enable-offline-auto-reload-visible-only --num-raster-threads=2 --enable-zero-copy --enable-gpu-memory-buffer-compositor-resources --enable-main-frame-before-activation --service-request-channel-token=F2B6CF79C9FC8D45E3988A665BA1D3A7 --renderer-client-id=8430\\n', b'chloeloughridge  41831   0.0  0.8  3379912  67428   ??  S    10:09AM   0:20.65 /Applications/Google Chrome.app/Contents/Versions/67.0.3396.99/Google Chrome Helper.app/Contents/MacOS/Google Chrome Helper --type=renderer --field-trial-handle=7498246347878744576,14478033313489745728,131072 --service-pipe-token=DCE4C16459E85C4A37841FAC7EFC9024 --lang=en-US --enable-offline-auto-reload --enable-offline-auto-reload-visible-only --num-raster-threads=2 --enable-zero-copy --enable-gpu-memory-buffer-compositor-resources --enable-main-frame-before-activation --service-request-channel-token=DCE4C16459E85C4A37841FAC7EFC9024 --renderer-client-id=8427\\n', b'chloeloughridge  41820   0.0  0.1  2487196   5748   ??  Ss   10:02AM   0:00.15 /System/Library/Frameworks/Metal.framework/Versions/A/XPCServices/MTLCompilerService.xpc/Contents/MacOS/MTLCompilerService\\n', b'chloeloughridge  41800   0.0  0.2  2572184  19152   ??  Ss    9:58AM   0:01.22 /System/Library/StagedFrameworks/Safari/SafariShared.framework/Versions/A/XPCServices/com.apple.Safari.SearchHelper.xpc/Contents/MacOS/com.apple.Safari.SearchHelper\\n', b'chloeloughridge  41746   0.0  0.0  2463084    804 s001  S+    9:45AM   0:00.18 -bash\\n', b'root             41745   0.0  0.0  2471008   3052 s001  Ss    9:45AM   0:00.17 login -pf chloeloughridge /bin/bash\\n', b'chloeloughridge  41737   0.0  0.7  3357440  55064   ??  S     9:43AM   0:19.24 /Applications/Google Chrome.app/Contents/Versions/67.0.3396.99/Google Chrome Helper.app/Contents/MacOS/Google Chrome Helper --type=renderer --field-trial-handle=7498246347878744576,14478033313489745728,131072 --service-pipe-token=3D24AC04412463D8C323061E8842D8BE --lang=en-US --enable-offline-auto-reload --enable-offline-auto-reload-visible-only --num-raster-threads=2 --enable-zero-copy --enable-gpu-memory-buffer-compositor-resources --enable-main-frame-before-activation --service-request-channel-token=3D24AC04412463D8C323061E8842D8BE --renderer-client-id=8378\\n', b'chloeloughridge  41736   0.0  0.6  3442616  53620   ??  S     9:43AM   0:09.90 /Applications/Google Chrome.app/Contents/Versions/67.0.3396.99/Google Chrome Helper.app/Contents/MacOS/Google Chrome Helper --type=renderer --field-trial-handle=7498246347878744576,14478033313489745728,131072 --service-pipe-token=2C9AD62AE4A15ED90DACDB0F50518466 --lang=en-US --enable-offline-auto-reload --enable-offline-auto-reload-visible-only --num-raster-threads=2 --enable-zero-copy --enable-gpu-memory-buffer-compositor-resources --enable-main-frame-before-activation --service-request-channel-token=2C9AD62AE4A15ED90DACDB0F50518466 --renderer-client-id=8377\\n', b'chloeloughridge  41725   0.0  0.5  3297616  37776   ??  S     9:41AM   0:02.01 /Applications/Google Chrome.app/Contents/Versions/67.0.3396.99/Google Chrome Helper.app/Contents/MacOS/Google Chrome Helper --type=renderer --field-trial-handle=7498246347878744576,14478033313489745728,131072 --service-pipe-token=30EBB841473C42C344E8A861EEF19D5C --lang=en-US --enable-offline-auto-reload --enable-offline-auto-reload-visible-only --num-raster-threads=2 --enable-zero-copy --enable-gpu-memory-buffer-compositor-resources --enable-main-frame-before-activation --service-request-channel-token=30EBB841473C42C344E8A861EEF19D5C --renderer-client-id=8366\\n', b'chloeloughridge  41724   0.0  0.5  3304796  40140   ??  S     9:40AM   0:01.99 /Applications/Google Chrome.app/Contents/Versions/67.0.3396.99/Google Chrome Helper.app/Contents/MacOS/Google Chrome Helper --type=renderer --field-trial-handle=7498246347878744576,14478033313489745728,131072 --service-pipe-token=6ABBFCF068E3452AB0E4BD5753E878FA --lang=en-US --enable-offline-auto-reload --enable-offline-auto-reload-visible-only --num-raster-threads=2 --enable-zero-copy --enable-gpu-memory-buffer-compositor-resources --enable-main-frame-before-activation --service-request-channel-token=6ABBFCF068E3452AB0E4BD5753E878FA --renderer-client-id=8365\\n', b'chloeloughridge  41723   0.0  1.5  3519704 127112   ??  S     9:40AM   0:05.75 /Applications/Google Chrome.app/Contents/Versions/67.0.3396.99/Google Chrome Helper.app/Contents/MacOS/Google Chrome Helper --type=renderer --field-trial-handle=7498246347878744576,14478033313489745728,131072 --service-pipe-token=C256E8B4F207C8BBB505C6A7F9CFCBD7 --lang=en-US --enable-offline-auto-reload --enable-offline-auto-reload-visible-only --num-raster-threads=2 --enable-zero-copy --enable-gpu-memory-buffer-compositor-resources --enable-main-frame-before-activation --service-request-channel-token=C256E8B4F207C8BBB505C6A7F9CFCBD7 --renderer-client-id=8364\\n', b'chloeloughridge  41720   0.0  0.6  3441936  54488   ??  S     9:40AM   0:12.64 /Applications/Google Chrome.app/Contents/Versions/67.0.3396.99/Google Chrome Helper.app/Contents/MacOS/Google Chrome Helper --type=renderer --field-trial-handle=7498246347878744576,14478033313489745728,131072 --service-pipe-token=48A594C6F8D4A96B66B8605A1CFA9FE7 --lang=en-US --enable-offline-auto-reload --enable-offline-auto-reload-visible-only --num-raster-threads=2 --enable-zero-copy --enable-gpu-memory-buffer-compositor-resources --enable-main-frame-before-activation --service-request-channel-token=48A594C6F8D4A96B66B8605A1CFA9FE7 --renderer-client-id=8361\\n', b'_netbios         41706   0.0  0.1  2473112   5996   ??  SNs   9:36AM   0:00.06 /usr/sbin/netbiosd\\n', b'chloeloughridge  41507   0.0  1.8  4202996 155108   ??  U     6:53PM   2:35.76 /Applications/Google Chrome.app/Contents/Versions/67.0.3396.99/Google Chrome Helper.app/Contents/MacOS/Google Chrome Helper --type=renderer --field-trial-handle=7498246347878744576,14478033313489745728,131072 --service-pipe-token=27682C1745F54334754D9981E647673F --lang=en-US --extension-process --enable-offline-auto-reload --enable-offline-auto-reload-visible-only --num-raster-threads=2 --enable-zero-copy --enable-gpu-memory-buffer-compositor-resources --enable-main-frame-before-activation --service-request-channel-token=27682C1745F54334754D9981E647673F --renderer-client-id=8327\\n', b'chloeloughridge  41473   0.0  0.1  2506428   5956   ??  Ss    6:06PM   0:00.16 /System/Library/Frameworks/VideoToolbox.framework/Versions/A/XPCServices/VTDecoderXPCService.xpc/Contents/MacOS/VTDecoderXPCService\\n', b'chloeloughridge  41410   0.0  0.1  2470976   5204   ??  S     4:17PM   0:00.03 /System/Library/Frameworks/ApplicationServices.framework/Versions/A/Frameworks/HIServices.framework/Versions/A/XPCServices/com.apple.hiservices-xpcservice.xpc/Contents/MacOS/com.apple.hiservices-xpcservice\\n', b'chloeloughridge  41373   0.0  1.9  3795908 160060   ??  S     3:47PM   4:44.96 /Applications/Google Chrome.app/Contents/Versions/67.0.3396.99/Google Chrome Helper.app/Contents/MacOS/Google Chrome Helper --type=renderer --field-trial-handle=7498246347878744576,14478033313489745728,131072 --service-pipe-token=852F048014417D85E0D4A8D313E07003 --lang=en-US --extension-process --enable-offline-auto-reload --enable-offline-auto-reload-visible-only --num-raster-threads=2 --enable-zero-copy --enable-gpu-memory-buffer-compositor-resources --enable-main-frame-before-activation --service-request-channel-token=852F048014417D85E0D4A8D313E07003 --renderer-client-id=8247\\n', b'chloeloughridge  41249   0.0  0.3  2527988  21676   ??  Ss   Sun01PM   0:00.89 /System/Library/PrivateFrameworks/CommerceKit.framework/Versions/A/XPCServices/com.apple.CommerceKit.TransactionService.xpc/Contents/MacOS/com.apple.CommerceKit.TransactionService\\n', b'chloeloughridge  41246   0.0  0.2  2590308  16000   ??  Ss   Sun01PM   0:00.30 /System/Library/PrivateFrameworks/SafariServices.framework/Versions/A/XPCServices/com.apple.SafariServices.xpc/Contents/MacOS/com.apple.SafariServices\\n', b'root             41105   0.0  0.1  2496644   5584   ??  Ss   Sun09AM   0:00.03 /System/Library/Frameworks/CoreMediaIO.framework/Versions/A/XPCServices/com.apple.cmio.registerassistantservice.xpc/Contents/MacOS/com.apple.cmio.registerassistantservice\\n', b'_softwareupdate  41083   0.0  0.1  2497816   5956   ??  Ss   Sun09AM   0:00.06 /System/Library/CoreServices/Software Update.app/Contents/Resources/softwareupdate_download_service\\n', b'root             41060   0.0  0.1  2497304   8344   ??  Ss   Sun09AM   0:00.40 /usr/libexec/findmydeviced\\n', b'chloeloughridge  41059   0.0  0.2  2547432  18156   ??  S    Sun09AM   0:01.84 /System/Library/CoreServices/cloudphotosd.app/Contents/MacOS/cloudphotosd\\n', b'chloeloughridge  41058   0.0  0.2  2509100  14864   ??  Ss   Sun09AM   0:00.44 /System/Library/PrivateFrameworks/PhotoLibraryPrivate.framework/Versions/A/Frameworks/PhotoLibraryServices.framework/Versions/A/XPCServices/com.apple.photomoments.xpc/Contents/MacOS/com.apple.photomoments\\n', b'chloeloughridge  41057   0.0  0.1  2507024  10328   ??  S    Sun09AM   0:00.70 /System/Library/PrivateFrameworks/PhotoLibraryPrivate.framework/Versions/A/Support/photolibraryd\\n', b'chloeloughridge  41055   0.0  0.2  2506052  14620   ??  S    Sun09AM   0:00.40 /System/Library/PrivateFrameworks/CloudPhotoServices.framework/Versions/A/Frameworks/CloudPhotosConfigurationXPC.framework/Versions/A/XPCServices/com.apple.CloudPhotosConfiguration.xpc/Contents/MacOS/com.apple.CloudPhotosConfiguration\\n', b'chloeloughridge  41053   0.0  0.0  2471240   2324   ??  S    Sun09AM   0:00.02 /System/Library/PrivateFrameworks/CoreFollowUp.framework/Versions/A/Support/followupd\\n', b'chloeloughridge  41052   0.0  0.1  2497080  11824   ??  S    Sun09AM   0:00.08 /System/Library/PrivateFrameworks/CoreCDP.framework/Versions/A/Resources/cdpd\\n', b'root             40969   0.0  0.0  2471284    364   ??  SNs  Sun09AM   0:00.01 /usr/libexec/periodic-wrapper weekly\\n', b'chloeloughridge  40894   0.0  0.0  2570488    768   ??  Ss   Sat09PM   0:00.08 /System/Library/StagedFrameworks/Safari/SafariShared.framework/Versions/A/XPCServices/com.apple.Safari.ImageDecoder.xpc/Contents/MacOS/com.apple.Safari.ImageDecoder\\n', b'chloeloughridge  40893   0.0  0.4  3878332  32012   ??  Ss   Sat09PM   1:36.00 /System/Library/StagedFrameworks/Safari/WebKit.framework/Versions/A/XPCServices/com.apple.WebKit.WebContent.xpc/Contents/MacOS/com.apple.WebKit.WebContent\\n', b'chloeloughridge  40891   0.0  0.0  2570352   1736   ??  S    Sat09PM   0:12.70 /usr/libexec/SafariCloudHistoryPushAgent\\n', b'chloeloughridge  40868   0.0  0.0  2454892    536 s000  S    Sat09PM   0:00.03 -bash\\n', b'root             40867   0.0  0.0  2471008    184 s000  Ss   Sat09PM   0:00.35 login -pf chloeloughridge /bin/bash\\n', b'chloeloughridge  40866   0.0  0.2  2677944  19340   ??  S    Sat09PM   0:18.61 /Applications/Utilities/Terminal.app/Contents/MacOS/Terminal\\n', b'chloeloughridge  40813   0.0  0.4  3711468  37360   ??  S    Sat09PM   3:04.42 /Applications/Notes.app/Contents/MacOS/Notes\\n', b'chloeloughridge  40740   0.0  0.7  3672928  58280   ??  S    Sat11AM   4:07.83 /Applications/Google Chrome.app/Contents/Versions/67.0.3396.99/Google Chrome Helper.app/Contents/MacOS/Google Chrome Helper --type=renderer --field-trial-handle=7498246347878744576,14478033313489745728,131072 --service-pipe-token=3AA7D886F85584F2135D024151EED4D1 --lang=en-US --extension-process --enable-offline-auto-reload --enable-offline-auto-reload-visible-only --num-raster-threads=2 --enable-zero-copy --enable-gpu-memory-buffer-compositor-resources --enable-main-frame-before-activation --service-request-channel-token=3AA7D886F85584F2135D024151EED4D1 --renderer-client-id=8072\\n', b'chloeloughridge  40708   0.0  0.0  2501716   2588   ??  Ss   Fri11PM   0:00.07 /Applications/Google Chrome.app/Contents/Versions/67.0.3396.99/Google Chrome Framework.framework/Versions/A/XPCServices/AlertNotificationService.xpc/Contents/MacOS/AlertNotificationService\\n', b'root             40621   0.0  0.0  2471528    436   ??  Ss   Fri09PM   0:00.05 /usr/sbin/aslmanager -s /var/log/eventmonitor\\n', b'root             40452   0.0  0.0  2471284    228   ??  SNs  Fri08PM   0:00.02 /usr/libexec/periodic-wrapper daily\\n', b'chloeloughridge  40379   0.0  0.0  2522532   2488   ??  S    Fri05PM   0:01.67 /System/Library/CoreServices/EscrowSecurityAlert.app/Contents/MacOS/EscrowSecurityAlert\\n', b'chloeloughridge  40338   0.0  0.0  2471580    564   ??  S    Fri04PM   0:00.06 /System/Library/Frameworks/ApplicationServices.framework/Frameworks/PrintCore.framework/Versions/A/printtool agent\\n', b'chloeloughridge  40334   0.0  0.0  2499888   1552   ??  S    Fri04PM   0:00.21 /System/Library/CoreServices/ScopedBookmarkAgent\\n', b'chloeloughridge  40333   0.0  0.0  2498172   1072   ??  S    Fri04PM   0:00.12 /System/Library/PrivateFrameworks/BookKit.framework/Versions/A/XPCServices/com.apple.BKAgentService.xpc/Contents/MacOS/com.apple.BKAgentService\\n', b'chloeloughridge  40330   0.0  0.0  2475528    452   ??  S    Fri04PM   0:00.04 /usr/libexec/spindump_agent\\n', b'chloeloughridge  40301   0.0  0.0  2500944   3792   ??  S    Fri04PM   0:00.89 /System/Library/CoreServices/AppleIDAuthAgent\\n', b'root             40247   0.0  0.0  2497956   2156   ??  Ss   Fri04PM   0:00.41 /usr/libexec/amfid\\n', b'root             40237   0.0  0.0  2471496    540   ??  Ss   Fri03PM   0:00.03 /System/Library/Frameworks/AudioToolbox.framework/XPCServices/com.apple.audio.SandboxHelper.xpc/Contents/MacOS/com.apple.audio.SandboxHelper\\n', b'root             40236   0.0  0.0  2501148   1284   ??  Ss   Fri03PM   0:00.44 /usr/sbin/systemsoundserverd\\n', b'chloeloughridge  40235   0.0  0.0  2501136    472   ??  S    Fri03PM   0:00.14 /System/Library/CoreServices/pbs\\n', b'chloeloughridge  40234   0.0  0.0  2500656   2432   ??  S    Fri03PM   0:01.04 /usr/libexec/pkd\\n', b'chloeloughridge  40233   0.0  0.0  2575940   3284   ??  Ss   Fri03PM   0:00.55 /System/Library/PrivateFrameworks/SafariShared.framework/Versions/A/XPCServices/com.apple.Safari.History.xpc/Contents/MacOS/com.apple.Safari.History\\n', b'_iconservices    40231   0.0  0.0  2472656    596   ??  Ss   Fri03PM   0:00.05 /System/Library/CoreServices/iconservicesd\\n', b'chloeloughridge  40230   0.0  0.0  2507436   2164   ??  S    Fri03PM   0:00.13 /System/Library/CoreServices/iconservicesagent\\n', b'root             40224   0.0  0.0  2471736    600   ??  Ss   Fri03PM   0:00.08 /usr/sbin/spindump\\n', b'root             40223   0.0  0.0  2506328   3688   ??  Ss   Fri03PM   0:00.67 /System/Library/PrivateFrameworks/PackageKit.framework/Resources/installd\\n', b'chloeloughridge  40213   0.0  0.0  2499772   1116   ??  Us   Fri03PM   0:00.08 /System/Library/PrivateFrameworks/CommerceKit.framework/Versions/A/XPCServices/com.apple.CommerceKit.TransactionService.xpc/Contents/MacOS/com.apple.CommerceKit.TransactionService\\n', b'root             40206   0.0  0.0  2472048    596   ??  Us   Fri03PM   0:00.05 /System/Library/PrivateFrameworks/AccountPolicy.framework/XPCServices/com.apple.AccountPolicyHelper.xpc/Contents/MacOS/com.apple.AccountPolicyHelper\\n', b'_nsurlstoraged   40201   0.0  0.0  2497244   1328   ??  Ss   Fri03PM   0:00.13 /usr/libexec/nsurlstoraged\\n', b'chloeloughridge  40192   0.0  0.1  2501880   4684   ??  S    Fri03PM   0:02.98 /System/Library/PrivateFrameworks/GeoServices.framework/Versions/A/XPCServices/com.apple.geod.xpc/Contents/MacOS/com.apple.geod\\n', b'root             40190   0.0  0.0  2497932   1448   ??  Ss   Fri03PM   0:10.49 /System/Library/PrivateFrameworks/AmbientDisplay.framework/Versions/A/XPCServices/com.apple.AmbientDisplayAgent.xpc/Contents/MacOS/com.apple.AmbientDisplayAgent\\n', b'chloeloughridge  40185   0.0  0.1  2498872   4284   ??  S    Fri03PM   0:00.83 /System/Library/CoreServices/mapspushd\\n', b'chloeloughridge  40179   0.0  0.0  2499248   1564   ??  Ss   Fri03PM   0:00.11 /System/Library/PrivateFrameworks/CommerceKit.framework/Versions/A/XPCServices/com.apple.CommerceKit.TransactionService.xpc/Contents/MacOS/com.apple.CommerceKit.TransactionService\\n', b'chloeloughridge  40169   0.0  0.0  2470964    176   ??  Ss   Fri03PM   0:00.02 /System/Library/PrivateFrameworks/CloudDocsDaemon.framework/XPCServices/ContainerMetadataExtractor.xpc/Contents/MacOS/ContainerMetadataExtractor\\n', b'chloeloughridge  40168   0.0  0.0  2501576   2052   ??  S    Fri03PM   0:00.26 /System/Library/Frameworks/InputMethodKit.framework/Versions/A/XPCServices/com.apple.InputMethodKit.TextReplacementService.xpc/Contents/MacOS/com.apple.InputMethodKit.TextReplacementService\\n', b'root             40166   0.0  0.0  2473728    808   ??  Ss   Fri03PM   0:00.44 /System/Library/PrivateFrameworks/CoreSymbolication.framework/coresymbolicationd\\n', b'root             40165   0.0  0.0  2506220   3380   ??  Ss   Fri03PM   0:04.68 /usr/libexec/sandboxd\\n', b'chloeloughridge  40164   0.0  0.0  2497176   1488   ??  Ss   Fri03PM   0:00.13 /System/Library/Frameworks/AddressBook.framework/Versions/A/XPCServices/com.apple.AddressBook.InternetAccountsBridge.xpc/Contents/MacOS/com.apple.AddressBook.InternetAccountsBridge\\n', b'chloeloughridge  40163   0.0  0.0  2498960   3056   ??  U    Fri03PM   0:00.74 /usr/libexec/secinitd\\n', b'chloeloughridge  40162   0.0  0.0  2496692   3352   ??  S    Fri03PM   0:02.39 /System/Library/Frameworks/AddressBook.framework/Versions/A/XPCServices/com.apple.AddressBook.ContactsAccountsService.xpc/Contents/MacOS/com.apple.AddressBook.ContactsAccountsService\\n', b'chloeloughridge  40157   0.0  0.1  2501172   5956   ??  S    Fri03PM   0:02.51 /System/Library/PrivateFrameworks/AuthKit.framework/Versions/A/Support/akd\\n', b'chloeloughridge  40156   0.0  0.0  2471028    556   ??  S    Fri03PM   0:00.07 /System/Library/Frameworks/Security.framework/Versions/A/Resources/IDSKeychainSyncingProxy.bundle/Contents/MacOS/IDSKeychainSyncingProxy\\n', b'chloeloughridge  40154   0.0  0.0  2471156   1604   ??  S    Fri03PM   0:00.36 /System/Library/Frameworks/Security.framework/Versions/A/Resources/CloudKeychainProxy.bundle/Contents/MacOS/CloudKeychainProxy\\n', b'chloeloughridge  40153   0.0  0.0  2498832   2956   ??  S    Fri03PM   0:03.38 /usr/libexec/secd\\n', b'chloeloughridge  40152   0.0  0.0  2513576   2952   ??  S    Fri03PM   0:01.26 /System/Library/PrivateFrameworks/SafariSafeBrowsing.framework/com.apple.Safari.SafeBrowsing.Service\\n', b'root             40127   0.0  0.0  2462808    324   ??  Ss   Fri02PM   0:00.05 /System/Library/CryptoTokenKit/com.apple.ifdreader.slotd/Contents/MacOS/com.apple.ifdreader\\n', b'root             40119   0.0  0.0  2497816   1144   ??  Ss   Fri11AM   0:00.21 /usr/sbin/WirelessRadioManagerd\\n', b'root             40073   0.0  0.0  2500324   1856   ??  Ss   Fri10AM   0:00.30 /usr/libexec/nehelper\\n', b'chloeloughridge  40058   0.0  0.0  2500668    780   ??  S    Fri10AM   0:24.21 /System/Library/PrivateFrameworks/ViewBridge.framework/Versions/A/XPCServices/ViewBridgeAuxiliary.xpc/Contents/MacOS/ViewBridgeAuxiliary\\n', b'chloeloughridge  40049   0.0  0.0  2523864   3536   ??  S    Fri10AM   0:01.97 /System/Library/LoginPlugins/BezelServices.loginPlugin/Contents/Resources/BezelUI/BezelUIServer\\n', b'chloeloughridge  40031   0.0  0.8  3843924  69336   ??  S    Fri10AM  27:19.37 /Applications/Google Chrome.app/Contents/Versions/67.0.3396.99/Google Chrome Helper.app/Contents/MacOS/Google Chrome Helper --type=renderer --field-trial-handle=7498246347878744576,14478033313489745728,131072 --service-pipe-token=257B2B59B8563A7A21FBA5974D14DF1C --lang=en-US --extension-process --enable-offline-auto-reload --enable-offline-auto-reload-visible-only --num-raster-threads=2 --enable-zero-copy --enable-gpu-memory-buffer-compositor-resources --enable-main-frame-before-activation --service-request-channel-token=257B2B59B8563A7A21FBA5974D14DF1C --renderer-client-id=7790\\n', b'_gamecontrollerd 40029   0.0  0.0  2471808   1912   ??  Ss   Fri10AM   0:04.81 /usr/libexec/gamecontrollerd\\n', b'root             40019   0.0  0.0  2471516   1332   ??  Ss   Fri10AM   0:06.79 sysmond\\n', b'root             39986   0.0  0.0  2473884   1112   ??  Ss   Fri10AM   0:12.80 /usr/libexec/systemstatsd\\n', b'chloeloughridge  39983   0.0  0.2  2534844  13132   ??  S    Fri10AM   0:11.68 /System/Library/PrivateFrameworks/CoreSuggestions.framework/Versions/A/Support/suggestd\\n', b'root             39961   0.0  0.0  2471548   1024   ??  Ss   Fri09AM   0:00.54 /System/Library/PrivateFrameworks/PerformanceAnalysis.framework/Versions/A/XPCServices/com.apple.PerformanceAnalysis.animationperfd.xpc/Contents/MacOS/com.apple.PerformanceAnalysis.animationperfd\\n', b'root             39959   0.0  0.0  2471500    496   ??  Ss   Fri09AM   0:00.06 /usr/libexec/networkd_privileged\\n', b'root             39957   0.0  0.0  2471528   1512   ??  Ss   Fri09AM   0:01.30 aslmanager\\n', b'root             39953   0.0  0.0  2473088   2832   ??  Ss   Fri09AM   0:02.09 /System/Library/PrivateFrameworks/CacheDelete.framework/deleted\\n', b'chloeloughridge  39948   0.0  0.0  2471992   2860   ??  S    Fri09AM   0:08.35 /usr/sbin/cfprefsd agent\\n', b'root             39947   0.0  0.0  2472992   1344   ??  Us   Fri09AM   0:00.27 /System/Library/Frameworks/Security.framework/Versions/A/XPCServices/com.apple.CodeSigningHelper.xpc/Contents/MacOS/com.apple.CodeSigningHelper\\n', b'chloeloughridge  39946   0.0  0.0  2522560   2500   ??  S    Fri09AM   0:02.32 /System/Library/CoreServices/AirPlayUIAgent.app/Contents/MacOS/AirPlayUIAgent --launchd\\n', b'chloeloughridge  39942   0.0  0.1  2514776   7940   ??  S    Fri09AM   0:02.66 /System/Library/PrivateFrameworks/MessagesKit.framework/Resources/soagent.app/Contents/MacOS/soagent\\n', b'root             39941   0.0  0.0  2497512   1256   ??  Ss   Fri09AM   0:00.60 /System/Library/PrivateFrameworks/WirelessDiagnostics.framework/Support/awdd\\n', b'root             39938   0.0  0.1  2506600   7140   ??  Ss   Fri09AM   0:18.88 /usr/libexec/coreduetd\\n', b'chloeloughridge  39936   0.0  0.1  2500048   4976   ??  S    Fri09AM   0:04.32 /usr/libexec/nsurlstoraged\\n', b'chloeloughridge  39934   0.0  0.1  2530108  12008   ??  S    Fri09AM   0:29.09 /System/Library/Frameworks/Accounts.framework/Versions/A/Support/accountsd\\n', b'chloeloughridge  39932   0.0  0.0  2501972   3092   ??  S    Fri09AM   0:04.95 /System/Library/PrivateFrameworks/TCC.framework/Resources/tccd\\n', b'root             39927   0.0  0.0  2471696    928   ??  Ss   Fri09AM   0:01.00 /usr/libexec/diagnosticd\\n', b'chloeloughridge  39855   0.0  0.5  3344424  39860   ??  S    Fri09AM   0:06.24 /Applications/Google Chrome.app/Contents/Versions/67.0.3396.99/Google Chrome Helper.app/Contents/MacOS/Google Chrome Helper --type=renderer --field-trial-handle=7498246347878744576,14478033313489745728,131072 --service-pipe-token=9190CA994B322D44D6E35EB8E6F07E5F --lang=en-US --enable-offline-auto-reload --enable-offline-auto-reload-visible-only --num-raster-threads=2 --enable-zero-copy --enable-gpu-memory-buffer-compositor-resources --enable-main-frame-before-activation --service-request-channel-token=9190CA994B322D44D6E35EB8E6F07E5F --renderer-client-id=7778\\n', b'chloeloughridge  39853   0.0  0.5  3495840  40576   ??  S    Fri09AM   2:03.52 /Applications/Google Chrome.app/Contents/Versions/67.0.3396.99/Google Chrome Helper.app/Contents/MacOS/Google Chrome Helper --type=renderer --field-trial-handle=7498246347878744576,14478033313489745728,131072 --service-pipe-token=53687638EE6B4B88130B09C8A8841D04 --lang=en-US --enable-offline-auto-reload --enable-offline-auto-reload-visible-only --num-raster-threads=2 --enable-zero-copy --enable-gpu-memory-buffer-compositor-resources --enable-main-frame-before-activation --service-request-channel-token=53687638EE6B4B88130B09C8A8841D04 --renderer-client-id=7776\\n', b'chloeloughridge  39830   0.0  0.1  2504752   9912   ??  S    Fri09AM   0:23.67 /System/Library/PrivateFrameworks/CloudKitDaemon.framework/Support/cloudd\\n', b'chloeloughridge  30570   0.0  0.0  2497308    336   ??  S    22Jul18   0:00.21 /System/Library/PrivateFrameworks/FamilyCircle.framework/Versions/A/Resources/familycircled\\n', b'_networkd        29571   0.0  0.0  2505016   3400   ??  Ss   21Jul18   1:27.14 /usr/libexec/symptomsd\\n', b'chloeloughridge  27959   0.0  2.6  4548888 217388   ??  S    20Jul18 243:46.74 /Applications/Google Chrome.app/Contents/Versions/67.0.3396.99/Google Chrome Helper.app/Contents/MacOS/Google Chrome Helper --type=renderer --field-trial-handle=7498246347878744576,14478033313489745728,131072 --service-pipe-token=AD9D6087BF3E15768BF9DE9A443A46F6 --lang=en-US --enable-offline-auto-reload --enable-offline-auto-reload-visible-only --num-raster-threads=2 --enable-zero-copy --enable-gpu-memory-buffer-compositor-resources --enable-main-frame-before-activation --service-request-channel-token=AD9D6087BF3E15768BF9DE9A443A46F6 --renderer-client-id=5597\\n', b'chloeloughridge  26920   0.0  0.4  3360912  30316   ??  S    19Jul18   2:09.80 /Applications/Calendar.app/Contents/MacOS/Calendar\\n', b'chloeloughridge  26260   0.0  0.5  4043096  41116   ??  S    18Jul18   4:30.88 /Applications/Google Chrome.app/Contents/Versions/67.0.3396.99/Google Chrome Helper.app/Contents/MacOS/Google Chrome Helper --type=renderer --field-trial-handle=7498246347878744576,14478033313489745728,131072 --service-pipe-token=9AA178C1C09BBEA3FE2810D68CB3CD82 --lang=en-US --enable-offline-auto-reload --enable-offline-auto-reload-visible-only --num-raster-threads=2 --enable-zero-copy --enable-gpu-memory-buffer-compositor-resources --enable-main-frame-before-activation --service-request-channel-token=9AA178C1C09BBEA3FE2810D68CB3CD82 --renderer-client-id=4854\\n', b'chloeloughridge  26248   0.0  0.2  3325812  16596   ??  S    18Jul18   0:15.52 /Applications/Google Chrome.app/Contents/Versions/67.0.3396.99/Google Chrome Helper.app/Contents/MacOS/Google Chrome Helper --type=renderer --field-trial-handle=7498246347878744576,14478033313489745728,131072 --service-pipe-token=76FA698258C60E36939BF195F309595B --lang=en-US --enable-offline-auto-reload --enable-offline-auto-reload-visible-only --num-raster-threads=2 --enable-zero-copy --enable-gpu-memory-buffer-compositor-resources --enable-main-frame-before-activation --service-request-channel-token=76FA698258C60E36939BF195F309595B --renderer-client-id=4850\\n', b'chloeloughridge  26033   0.0  0.0  2471476    300   ??  S    17Jul18   0:00.13 /System/Library/PrivateFrameworks/KerberosHelper/Helpers/DiskUnmountWatcher\\n', b'root             25084   0.0  0.0  2473180    700   ??  Ss   17Jul18   0:00.50 /System/Library/PrivateFrameworks/SoftwareUpdate.framework/Resources/suhelperd\\n', b'_softwareupdate  25083   0.0  0.1  4064884   4780   ??  Ss   17Jul18   5:59.98 /System/Library/CoreServices/Software Update.app/Contents/Resources/softwareupdated\\n', b'root             24611   0.0  0.0  2471868    388   ??  Ss   17Jul18   0:00.51 /usr/libexec/syspolicyd\\n', b'chloeloughridge  21863   0.0  2.1  3982268 179240   ??  S    15Jul18  35:54.25 /Applications/Google Chrome.app/Contents/Versions/67.0.3396.99/Google Chrome Helper.app/Contents/MacOS/Google Chrome Helper --type=renderer --field-trial-handle=7498246347878744576,14478033313489745728,131072 --service-pipe-token=D885B23A7E66233B6C58E75677CCC2B7 --lang=en-US --extension-process --enable-offline-auto-reload --enable-offline-auto-reload-visible-only --num-raster-threads=2 --enable-zero-copy --enable-gpu-memory-buffer-compositor-resources --enable-main-frame-before-activation --service-request-channel-token=D885B23A7E66233B6C58E75677CCC2B7 --renderer-client-id=3825\\n', b'chloeloughridge  19952   0.0  0.1  2502792   7164   ??  S    13Jul18   0:23.50 /usr/libexec/nsurlsessiond\\n', b'chloeloughridge  19949   0.0  0.1  2503460   5264   ??  S    13Jul18   0:13.19 /System/Library/PrivateFrameworks/CloudDocsDaemon.framework/Versions/A/Support/bird\\n', b'chloeloughridge  17317   0.0  0.0  2522532   2168   ??  S    11Jul18   0:14.22 /System/Library/CoreServices/talagent\\n', b'root             15342   0.0  0.0  2515720    764   ??  Ss   11Jul18   0:04.79 /System/Library/PrivateFrameworks/DiskImages.framework/Resources/diskimages-helper -uuid CCC29DF5-7EE6-4E20-B359-FAFEF0293CD6 -post-exec 4\\n', b'chloeloughridge  15233   0.0  0.0  3600284   3836   ??  S    10Jul18   0:13.93 /Library/Internet Plug-Ins/JavaAppletPlugin.plugin/Contents/Resources/Java Updater.app/Contents/MacOS/Java Updater -bgcheck\\n', b'root             15153   0.0  0.0  2471288    648   ??  Ss   10Jul18   0:00.08 /System/Library/PrivateFrameworks/DiskImages.framework/Resources/hdiejectd\\n', b'root             15149   0.0  0.0  2515720    764   ??  Ss   10Jul18   0:05.63 /System/Library/PrivateFrameworks/DiskImages.framework/Resources/diskimages-helper -uuid DADF4DB3-7488-436F-8EF0-F3159F0EBAE6 -post-exec 4\\n', b'chloeloughridge  13770   0.0  0.1  2500736   4348   ??  S     8Jul18   1:22.34 /System/Library/PrivateFrameworks/SyncedDefaults.framework/Support/syncdefaultsd\\n', b'root              1054   0.0  0.0  2498036   2032   ??  Ss    1Jul18   0:09.26 /usr/libexec/taskgated -s\\n', b'root              1032   0.0  0.0  2496664    396   ??  Ss    1Jul18   0:00.53 /System/Library/PrivateFrameworks/CommerceKit.framework/Versions/A/Resources/storeinstalld\\n', b'root               970   0.0  0.0  2496896    360   ??  Ss    1Jul18   0:00.55 /System/Library/PrivateFrameworks/Noticeboard.framework/Versions/A/Resources/nbstated\\n', b'chloeloughridge    905   0.0  0.1  2526228   4604   ??  S     1Jul18   0:20.21 /System/Library/PrivateFrameworks/Noticeboard.framework/Versions/A/Resources/nbagent.app/Contents/MacOS/nbagent\\n', b'_spotlight         877   0.0  0.0  2500312    504   ??  S     1Jul18   0:02.58 /System/Library/Frameworks/CoreServices.framework/Frameworks/Metadata.framework/Versions/A/Support/mdworker -s mdworker-sizing -c MDSSizingWorker -m com.apple.mdworker.sizing\\n', b'chloeloughridge    876   0.0  0.0  2501096    504   ??  S     1Jul18   0:00.94 /System/Library/Frameworks/CoreServices.framework/Frameworks/Metadata.framework/Versions/A/Support/mdworker -s mdworker-sizing -c MDSSizingWorker -m com.apple.mdworker.sizing\\n', b'root               800   0.0  0.0  2472468     64   ??  S     1Jul18   0:00.06 /System/Library/Frameworks/CoreServices.framework/Frameworks/Metadata.framework/Versions/A/Support/mdflagwriter\\n', b'chloeloughridge    585   0.0  0.0  2502588   3920   ??  S    30Jun18   0:05.47 /System/Library/PrivateFrameworks/DataDetectorsCore.framework/Versions/A/XPCServices/DataDetectorsDynamicData.xpc/Contents/MacOS/DataDetectorsDynamicData\\n', b'root               567   0.0  0.0  2472552    448   ??  Ss   30Jun18  14:21.09 /Library/CoreMediaIO/Plug-Ins/DAL/AppleCamera.plugin/Contents/Resources/AppleCameraAssistant\\n', b'chloeloughridge    551   0.0  0.4  3577132  31336   ??  S    30Jun18   6:50.90 /Applications/Google Chrome.app/Contents/Versions/67.0.3396.99/Google Chrome Helper.app/Contents/MacOS/Google Chrome Helper --type=renderer --field-trial-handle=7498246347878744576,14478033313489745728,131072 --service-pipe-token=FFD0E27371D724033DA6BDE8BB804C02 --lang=en-US --enable-offline-auto-reload --enable-offline-auto-reload-visible-only --num-raster-threads=2 --enable-zero-copy --enable-gpu-memory-buffer-compositor-resources --enable-main-frame-before-activation --service-request-channel-token=FFD0E27371D724033DA6BDE8BB804C02 --renderer-client-id=50\\n', b'chloeloughridge    541   0.0  0.0  2505188   1476   ??  S    30Jun18   0:10.40 /System/Library/Frameworks/ApplicationServices.framework/Frameworks/SpeechSynthesis.framework/Resources/com.apple.speech.speechsynthesisd\\n', b'chloeloughridge    468   0.0  1.1  4113448  93896   ??  S    29Jun18 104:49.18 /Applications/Google Chrome.app/Contents/Versions/67.0.3396.99/Google Chrome Helper.app/Contents/MacOS/Google Chrome Helper --type=renderer --field-trial-handle=7498246347878744576,14478033313489745728,131072 --service-pipe-token=2ABE5FDE131F39C69D41E63582298E76 --lang=en-US --extension-process --enable-offline-auto-reload --enable-offline-auto-reload-visible-only --num-raster-threads=2 --enable-zero-copy --enable-gpu-memory-buffer-compositor-resources --enable-main-frame-before-activation --service-request-channel-token=2ABE5FDE131F39C69D41E63582298E76 --renderer-client-id=15\\n', b'chloeloughridge    448   0.0  2.3  3733332 191276   ??  S    29Jun18  16:25.40 /Applications/Google Chrome.app/Contents/Versions/67.0.3396.99/Google Chrome Helper.app/Contents/MacOS/Google Chrome Helper --type=renderer --field-trial-handle=7498246347878744576,14478033313489745728,131072 --service-pipe-token=0A400F525558CA84548E868F748EDC4D --lang=en-US --enable-offline-auto-reload --enable-offline-auto-reload-visible-only --num-raster-threads=2 --enable-zero-copy --enable-gpu-memory-buffer-compositor-resources --enable-main-frame-before-activation --service-request-channel-token=0A400F525558CA84548E868F748EDC4D --renderer-client-id=22\\n', b'chloeloughridge    431   0.0  0.5  3919352  43064   ??  S    29Jun18 178:48.46 /Applications/Google Chrome.app/Contents/Versions/67.0.3396.99/Google Chrome Helper.app/Contents/MacOS/Google Chrome Helper --type=gpu-process --field-trial-handle=7498246347878744576,14478033313489745728,131072 --gpu-preferences=KAAAAAAAAACAAAAAAQAAAAAAAAAAAGAAEAAAAAAAAAAAAAAAAAAAADgBAAAmAAAAMAEAAAAAAAA4AQAAAAAAAEABAAAAAAAASAEAAAAAAABQAQAAAAAAAFgBAAAAAAAAYAEAAAAAAABoAQAAAAAAAHABAAAAAAAAeAEAAAAAAACAAQAAAAAAAIgBAAAAAAAAkAEAAAAAAACYAQAAAAAAAKABAAAAAAAAqAEAAAAAAACwAQAAAAAAALgBAAAAAAAAwAEAAAAAAADIAQAAAAAAANABAAAAAAAA2AEAAAAAAADgAQAAAAAAAOgBAAAAAAAA8AEAAAAAAAD4AQAAAAAAAAACAAAAAAAACAIAAAAAAAAQAgAAAAAAABgCAAAAAAAAIAIAAAAAAAAoAgAAAAAAADACAAAAAAAAOAIAAAAAAABAAgAAAAAAAEgCAAAAAAAAUAIAAAAAAABYAgAAAAAAABAAAAAAAAAAAAAAAAUAAAAQAAAAAAAAAAAAAAALAAAAEAAAAAAAAAAAAAAADAAAABAAAAAAAAAAAAAAAA0AAAAQAAAAAAAAAAAAAAAPAAAAEAAAAAAAAAAAAAAAEAAAABAAAAAAAAAAAAAAABIAAAAQAAAAAAAAAAAAAAATAAAAEAAAAAAAAAABAAAABQAAABAAAAAAAAAAAQAAAAsAAAAQAAAAAAAAAAEAAAAMAAAAEAAAAAAAAAABAAAADQAAABAAAAAAAAAAAQAAAA8AAAAQAAAAAAAAAAEAAAAQAAAAEAAAAAAAAAABAAAAEgAAABAAAAAAAAAAAQAAABMAAAAQAAAAAAAAAAMAAAAFAAAAEAAAAAAAAAADAAAACwAAABAAAAAAAAAAAwAAAAwAAAAQAAAAAAAAAAMAAAANAAAAEAAAAAAAAAADAAAADwAAABAAAAAAAAAAAwAAABAAAAAQAAAAAAAAAAMAAAASAAAAEAAAAAAAAAADAAAAEwAAABAAAAAAAAAABQAAAAUAAAAQAAAAAAAAAAUAAAALAAAAEAAAAAAAAAAFAAAADQAAABAAAAAAAAAABQAAAA8AAAAQAAAAAAAAAAUAAAAQAAAAEAAAAAAAAAAFAAAAEgAAABAAAAAAAAAABQAAABMAAAAQAAAAAAAAAAYAAAAFAAAAEAAAAAAAAAAGAAAACwAAABAAAAAAAAAABgAAAA0AAAAQAAAAAAAAAAYAAAAPAAAAEAAAAAAAAAAGAAAAEAAAABAAAAAAAAAABgAAABIAAAAQAAAAAAAAAAYAAAATAAAA --service-request-channel-token=D3922D73098D3FC146599850FDFE99C1\\n', b'chloeloughridge    428   0.0  0.0  2499468    856   ??  S    29Jun18   0:01.46 /Applications/Google Chrome.app/Contents/Versions/67.0.3396.99/Google Chrome Framework.framework/Helpers/crashpad_handler --monitor-self-annotation=ptype=crashpad-handler --database=/Users/chloeloughridge/Library/Application Support/Google/Chrome/Crashpad --metrics-dir=/Users/chloeloughridge/Library/Application Support/Google/Chrome --url=https://clients2.google.com/cr/report --annotation=channel= --annotation=plat=OS X --annotation=prod=Chrome_Mac --annotation=ver=67.0.3396.99 --handshake-fd=9\\n', b'chloeloughridge    401   0.0  0.0  2471816    376   ??  S    29Jun18   0:21.94 /System/Library/Frameworks/CoreServices.framework/Frameworks/Metadata.framework/Versions/A/Support/mdflagwriter\\n', b'chloeloughridge    400   0.0  0.0  2471496    216   ??  S    29Jun18   0:00.35 /usr/libexec/USBAgent\\n', b'chloeloughridge    398   0.0  0.0  2499376    436   ??  S    29Jun18   0:00.94 /System/Library/PrivateFrameworks/CommerceKit.framework/Versions/A/Resources/storedownloadd\\n', b'chloeloughridge    397   0.0  0.0  2524888   2744   ??  S    29Jun18   0:12.87 /System/Library/PrivateFrameworks/CommerceKit.framework/Resources/LaterAgent.app/Contents/MacOS/LaterAgent\\n', b'chloeloughridge    396   0.0  0.0  2496676    396   ??  S    29Jun18   0:00.73 /System/Library/PrivateFrameworks/CommerceKit.framework/Versions/A/Resources/storelegacy\\n', b'chloeloughridge    378   0.0  0.0  2533888   3348   ??  S    29Jun18   0:13.03 /System/Library/CoreServices/CoreLocationAgent.app/Contents/MacOS/CoreLocationAgent\\n', b'chloeloughridge    362   0.0  0.0  2503788   1040   ??  S    29Jun18   0:03.96 /Applications/iTunes.app/Contents/MacOS/iTunesHelper.app/Contents/MacOS/iTunesHelper\\n', b'chloeloughridge    358   0.0  0.0  2500876   2896   ??  S    29Jun18   0:11.73 /System/Library/CoreServices/diagnostics_agent\\n', b'chloeloughridge    357   0.0  0.0  2523672   2720   ??  S    29Jun18   0:16.72 /System/Library/CoreServices/WiFiAgent.app/Contents/MacOS/WiFiAgent\\n', b'chloeloughridge    354   0.0  0.0  2496740    424   ??  S    29Jun18   0:06.66 /System/Library/CoreServices/cloudpaird\\n', b'chloeloughridge    352   0.0  0.0  2496780    360   ??  S    29Jun18   0:00.93 /System/Library/PrivateFrameworks/AskPermission.framework/Versions/A/Resources/askpermissiond\\n', b'chloeloughridge    349   0.0  0.0  2497276    740   ??  S    29Jun18   0:01.46 /System/Library/Image Capture/Support/icdd\\n', b'chloeloughridge    347   0.0  0.1  2675360   8212   ??  S    29Jun18   0:52.06 /System/Library/CoreServices/NotificationCenter.app/Contents/MacOS/NotificationCenter\\n', b'chloeloughridge    344   0.0  0.0  2522520   1948   ??  S    29Jun18   0:12.32 /System/Library/CoreServices/Keychain Circle Notification.app/Contents/MacOS/Keychain Circle Notification\\n', b'chloeloughridge    342   0.0  0.0  2496768    516   ??  S    29Jun18   0:02.16 /System/Library/CoreServices/SocialPushAgent.app/Contents/MacOS/SocialPushAgent\\n', b'root               337   0.0  0.0  2471432   1460   ??  Ss   29Jun18   0:01.29 /System/Library/CoreServices/SubmitDiagInfo server-init\\n', b'chloeloughridge    328   0.0  0.2  2639940  18292   ??  S    29Jun18   1:02.60 /System/Library/Services/AppleSpell.service/Contents/MacOS/AppleSpell -psn_0_94231\\n', b'chloeloughridge    312   0.0  0.1  2507688   6016   ??  S    29Jun18   0:52.44 /System/Library/PrivateFrameworks/ParsecUI.framework/Versions/A/Support/SpotlightNetHelper.app/Contents/MacOS/SpotlightNetHelper\\n', b'root               307   0.0  0.0  2497472   1652   ??  Ss   29Jun18   0:01.97 /System/Library/CoreServices/backupd.bundle/Contents/Resources/TMCacheDelete\\n', b'root               305   0.0  0.0  2474864    728   ??  Ss   29Jun18   0:03.12 /usr/sbin/filecoordinationd\\n', b'chloeloughridge    304   0.0  0.1  2506204   5980   ??  S    29Jun18   0:14.60 /System/Library/PrivateFrameworks/CommerceKit.framework/Versions/A/Resources/storeaccountd\\n', b'chloeloughridge    300   0.0  0.2  2507336  13412   ??  Ss   29Jun18   2:28.61 /System/Library/PrivateFrameworks/CalendarAgent.framework/Versions/A/XPCServices/CalNCService.xpc/Contents/MacOS/CalNCService\\n', b'chloeloughridge    298   0.0  0.0  2497016   1644   ??  Ss   29Jun18   0:11.04 /System/Library/PrivateFrameworks/CoreWLANKit.framework/Versions/A/XPCServices/WiFiProxy.xpc/Contents/MacOS/WiFiProxy\\n', b'chloeloughridge    296   0.0  0.2  2522704  13372   ??  S    29Jun18   9:01.80 /System/Library/PrivateFrameworks/CalendarAgent.framework/Executables/CalendarAgent\\n', b'chloeloughridge    294   0.0  0.1  2503348   4960   ??  S    29Jun18   0:28.95 /System/Library/PrivateFrameworks/CommerceKit.framework/Versions/A/Resources/storeassetd\\n', b'chloeloughridge    293   0.0  0.0  2499488   2616   ??  S    29Jun18   0:14.47 /System/Library/PrivateFrameworks/IMCore.framework/imagent.app/Contents/MacOS/imagent\\n', b'chloeloughridge    290   0.0  0.1  2523720   4300   ??  Ss   29Jun18   0:15.13 /System/Library/CoreServices/Dock.app/Contents/XPCServices/com.apple.dock.extra.xpc/Contents/MacOS/com.apple.dock.extra\\n', b'chloeloughridge    289   0.0  0.0  2498176   3068   ??  S    29Jun18   2:23.71 /System/Library/PrivateFrameworks/UserActivity.framework/Agents/useractivityd\\n', b'root               288   0.0  0.0  2471368    764   ??  Ss   29Jun18   0:01.59 /System/Library/CoreServices/sharedfilelistd --enable-legacy-services\\n', b'chloeloughridge    279   0.0  0.1  2512988   6868   ??  S    29Jun18   1:09.60 /usr/libexec/sharingd\\n', b'chloeloughridge    276   0.0  0.0  2499200   1800   ??  S    29Jun18   0:27.69 /usr/sbin/usernoted\\n', b'chloeloughridge    274   0.0  0.4  4433476  33268   ??  S    29Jun18   1:45.73 /System/Library/CoreServices/Spotlight.app/Contents/MacOS/Spotlight\\n', b'chloeloughridge    273   0.0  0.1  2530236   4804   ??  S    29Jun18   2:33.41 /System/Library/Frameworks/ApplicationServices.framework/Frameworks/ATS.framework/Support/fontd\\n', b'chloeloughridge    272   0.0  0.0  2439088     48   ??  S    29Jun18   0:00.05 /usr/sbin/pboard\\n', b'chloeloughridge    268   0.0  0.6  7712820  51400   ??  S    29Jun18  16:20.23 /System/Library/CoreServices/Finder.app/Contents/MacOS/Finder\\n', b'chloeloughridge    267   0.0  0.1  2559260  10272   ??  S    29Jun18   3:18.52 /System/Library/CoreServices/SystemUIServer.app/Contents/MacOS/SystemUIServer\\n', b'chloeloughridge    265   0.0  0.2  2640316  14492   ??  S    29Jun18   3:30.41 /System/Library/CoreServices/Dock.app/Contents/MacOS/Dock\\n', b'chloeloughridge    260   0.0  0.0  2506108   3048   ??  S    29Jun18   0:18.42 /System/Library/PrivateFrameworks/IDS.framework/identityservicesd.app/Contents/MacOS/identityservicesd\\n', b'chloeloughridge    253   0.0  0.0  2498944   1828   ??  S    29Jun18   0:07.08 /System/Library/CoreServices/sharedfilelistd\\n', b'chloeloughridge    252   0.0  0.1  6137028   7976   ??  S    29Jun18  12:19.59 /Applications/TextEdit.app/Contents/MacOS/TextEdit -psn_0_32776\\n', b'chloeloughridge    250   0.0  0.0  2502220   1288   ??  S    29Jun18   0:09.15 /usr/libexec/lsd\\n', b'chloeloughridge    249   0.0  0.1  2533664   5084   ??  S    29Jun18   0:59.32 /System/Library/Frameworks/CoreTelephony.framework/Support/CommCenter\\n', b'chloeloughridge    246   0.0  0.0  2471332   2752   ??  U    29Jun18   3:03.90 /usr/sbin/distnoted agent\\n', b'chloeloughridge    244   0.0  0.0  2503212   4104   ??  S    29Jun18   1:01.25 /usr/libexec/UserEventAgent (Aqua)\\n', b'root               243   0.0  0.0  2497268   2348   ??  Ss   29Jun18   5:05.51 /usr/libexec/securityd_service\\n', b'root               239   0.0  0.0  2471816    164   ??  Ss   29Jun18   0:05.91 /usr/libexec/watchdogd\\n', b'root               204   0.0  0.0  2504552    624   ??  Ss   29Jun18   0:00.86 /System/Library/Frameworks/OpenGL.framework/Versions/A/Libraries/CVMServer\\n', b'root               201   0.0  0.0  2471008    204   ??  Ss   29Jun18   0:02.66 /usr/libexec/thermald\\n', b'root               200   0.0  0.0  2496804    564   ??  Ss   29Jun18   0:13.44 /usr/libexec/usbd\\n', b'root               198   0.0  0.0  2471008    248   ??  Ss   29Jun18   0:01.33 /usr/libexec/corestoraged\\n', b'root               196   0.0  0.0  2472228    500   ??  Ss   29Jun18   0:23.88 /usr/sbin/ntpd -c /private/etc/ntp-restrict.conf -n -g -p /var/run/ntpd.pid -f /var/db/ntp.drift\\n', b'root               193   0.0  0.0  2498088   1188   ??  Ss   29Jun18   0:02.61 /usr/libexec/diskmanagementd\\n', b'root               184   0.0  0.5  3657184  40988   ??  Us   29Jun18  34:20.45 /System/Library/Frameworks/CoreServices.framework/Frameworks/Metadata.framework/Versions/A/Support/mds_stores\\n', b'root               181   0.0  0.0  2500776    396   ??  Ss   29Jun18   0:02.24 /usr/libexec/lsd runAsRoot\\n', b'_coreaudiod        176   0.0  0.0  2500792   3300   ??  Ss   29Jun18  34:45.98 /usr/sbin/coreaudiod\\n', b'_networkd          175   0.0  0.0  2471556   2944   ??  Ss   29Jun18   1:03.41 /usr/libexec/networkd\\n', b'root               173   0.0  0.0  2470972    632   ??  Ss   29Jun18   0:19.22 /System/Library/CoreServices/CrashReporterSupportHelper server-init\\n', b'root               150   0.0  0.0  2507816   2408   ??  Ss   29Jun18   0:26.32 /System/Library/CoreServices/coreservicesd\\n', b'root               149   0.0  0.0  2471520    168   ??  Ss   29Jun18   0:00.26 /System/Library/Frameworks/PCSC.framework/Versions/A/XPCServices/com.apple.ctkpcscd.xpc/Contents/MacOS/com.apple.ctkpcscd\\n', b'root               136   0.0  0.0  2499184   1500   ??  Ss   29Jun18   0:05.83 /System/Library/Frameworks/Security.framework/Versions/A/XPCServices/authd.xpc/Contents/MacOS/authd\\n', b'root               133   0.0  0.0  2473408   3280   ??  Ss   29Jun18   1:39.85 /usr/sbin/cfprefsd daemon\\n', b'_distnote          105   0.0  0.0  2470808    972   ??  Ss   29Jun18   1:16.10 /usr/sbin/distnoted daemon\\n', b'root               101   0.0  0.0  2472396   1912   ??  Ss   29Jun18   1:36.97 /usr/sbin/notifyd\\n', b'root               100   0.0  0.0  2497752   1668   ??  Ss   29Jun18   0:34.48 /usr/libexec/AirPlayXPCHelper\\n', b'root                97   0.0  0.0  2470996    296   ??  Ss   29Jun18   0:00.82 /System/Library/CoreServices/logind\\n', b'chloeloughridge     96   0.0  0.2  2583404  12588   ??  Ss   29Jun18   3:27.41 /System/Library/CoreServices/loginwindow.app/Contents/MacOS/loginwindow console\\n', b'root                95   0.0  0.0  2471312     96   ??  Ss   29Jun18   0:00.05 /usr/sbin/KernelEventAgent\\n', b'root                94   0.0  0.0  2504292   1808   ??  Ss   29Jun18   0:06.41 /System/Library/PrivateFrameworks/GenerationalStorage.framework/Versions/A/Support/revisiond\\n', b'_mdnsresponder      92   0.0  0.0  2500444   2916   ??  Ss   29Jun18   2:30.93 /usr/sbin/mDNSResponder\\n', b'root                88   0.0  0.0  2471480    172   ??  Ss   29Jun18   0:00.30 autofsd\\n', b'root                87   0.0  0.0  2497992   1560   ??  Ss   29Jun18   0:54.92 /usr/sbin/blued\\n', b'_displaypolicyd     86   0.0  0.0  2472668    156   ??  Ss   29Jun18   0:04.08 /usr/libexec/displaypolicyd\\n', b'_locationd          84   0.0  0.1  2512532   7548   ??  Ss   29Jun18   2:56.48 /usr/libexec/locationd\\n', b'root                82   0.0  0.0  2499312   3448   ??  Ss   29Jun18   1:08.28 /usr/sbin/securityd -i\\n', b'_usbmuxd            81   0.0  0.0  2499232    396   ??  Ss   29Jun18   0:01.38 /System/Library/PrivateFrameworks/MobileDevice.framework/Versions/A/Resources/usbmuxd -launchd\\n', b'root                80   0.0  0.1  2498836   4880   ??  Ss   29Jun18   1:41.62 /System/Library/CoreServices/launchservicesd\\n', b'root                79   0.0  0.1  2500980   4964   ??  Ss   29Jun18   1:13.17 /System/Library/PrivateFrameworks/ApplePushService.framework/apsd\\n', b'root                77   0.0  0.0  2496988    688   ??  Ss   29Jun18   0:11.53 /usr/sbin/wirelessproxd\\n', b'root                76   0.0  0.1  2512196   5636   ??  Ss   29Jun18   1:39.55 /usr/libexec/opendirectoryd\\n', b'root                70   0.0  0.0  2496568   1928   ??  Ss   29Jun18   0:07.05 /usr/libexec/diskarbitrationd\\n', b'root                64   0.0  0.2  2618388  13104   ??  Ss   29Jun18  27:10.36 /System/Library/Frameworks/CoreServices.framework/Frameworks/Metadata.framework/Support/mds\\n', b'root                62   0.0  0.0  2498572   1232   ??  SNs  29Jun18   0:02.96 /usr/libexec/warmd\\n', b'root                61   0.0  0.1  2509140   6632   ??  Ss   29Jun18   6:55.57 /usr/libexec/airportd\\n', b'root                55   0.0  0.0  2499756   1852   ??  Ss   29Jun18   0:36.07 /System/Library/CoreServices/powerd.bundle/powerd\\n', b'root                54   0.0  0.1  2508224   4432   ??  Ss   29Jun18   1:59.82 /usr/libexec/configd\\n', b'_appleevents        53   0.0  0.0  2497952    992   ??  Us   29Jun18   0:04.00 /System/Library/CoreServices/appleeventsd --server\\n', b'root                49   0.0  0.0  2478900   2152   ??  Ss   29Jun18   9:46.59 /System/Library/Frameworks/CoreServices.framework/Versions/A/Frameworks/FSEvents.framework/Versions/A/Support/fseventsd\\n', b'root                48   0.0  0.0  2502624   2940   ??  Ss   29Jun18   1:58.20 /usr/libexec/kextd\\n', b'root                46   0.0  0.1  2511844   6600   ??  Ss   29Jun18   2:42.34 /usr/libexec/UserEventAgent (System)\\n', b'root                45   0.0  0.0  2474032   1092   ??  Ss   29Jun18  10:29.36 /usr/sbin/syslogd\\n', b'root                 1   0.0  0.1  2483900   6292   ??  Ss   29Jun18  25:39.61 /sbin/launchd\\n', b'root             43455   0.0  0.0  2445416   1008   ??  R     1:43PM   0:00.01 ps aux\\n', b'chloeloughridge  42250   0.0  0.0        0      0   ??  Z    12:21PM   0:00.00 (python3.5)\\n', b'chloeloughridge  43453   0.0  0.4  3275996  35476   ??  S     1:42PM   0:00.08 /Applications/Google Chrome.app/Contents/Versions/67.0.3396.99/Google Chrome Helper.app/Contents/MacOS/Google Chrome Helper --type=renderer --field-trial-handle=7498246347878744576,14478033313489745728,131072 --service-pipe-token=0316A173537F267205354505F997FD45 --lang=en-US --enable-offline-auto-reload --enable-offline-auto-reload-visible-only --num-raster-threads=2 --enable-zero-copy --enable-gpu-memory-buffer-compositor-resources --enable-main-frame-before-activation --service-request-channel-token=0316A173537F267205354505F997FD45 --renderer-client-id=8686\\n', b'chloeloughridge  43449   0.0  1.0  3353668  84920   ??  S     1:42PM   0:00.57 /Applications/Google Chrome.app/Contents/Versions/67.0.3396.99/Google Chrome Helper.app/Contents/MacOS/Google Chrome Helper --type=renderer --field-trial-handle=7498246347878744576,14478033313489745728,131072 --service-pipe-token=87AC62767A77E33CA4FB5EBC9064E204 --lang=en-US --enable-offline-auto-reload --enable-offline-auto-reload-visible-only --num-raster-threads=2 --enable-zero-copy --enable-gpu-memory-buffer-compositor-resources --enable-main-frame-before-activation --service-request-channel-token=87AC62767A77E33CA4FB5EBC9064E204 --renderer-client-id=8685\\n', b'root             43442   0.0  0.0  2463084   1356   ??  S     1:42PM   0:00.08 ps aux\\n', b'chloeloughridge  43420   0.0  1.1  3340836  94048   ??  S     1:41PM   0:01.64 /Applications/Google Chrome.app/Contents/Versions/67.0.3396.99/Google Chrome Helper.app/Contents/MacOS/Google Chrome Helper --type=renderer --field-trial-handle=7498246347878744576,14478033313489745728,131072 --service-pipe-token=5E4D6F2EAFCB44CBCD0B1608F52B9AF7 --lang=en-US --enable-offline-auto-reload --enable-offline-auto-reload-visible-only --num-raster-threads=2 --enable-zero-copy --enable-gpu-memory-buffer-compositor-resources --enable-main-frame-before-activation --service-request-channel-token=5E4D6F2EAFCB44CBCD0B1608F52B9AF7 --renderer-client-id=8675\\n', b'chloeloughridge  43350   0.0  0.1  2500992   9752   ??  S     1:37PM   0:00.05 /System/Library/Frameworks/CoreServices.framework/Frameworks/Metadata.framework/Versions/A/Support/mdworker -s mdworker -c MDSImporterWorker -m com.apple.mdworker.single\\n', b'chloeloughridge  43287   0.0  0.7  3423308  56520   ??  S     1:32PM   0:02.08 /Applications/Google Chrome.app/Contents/Versions/67.0.3396.99/Google Chrome Helper.app/Contents/MacOS/Google Chrome Helper --type=renderer --field-trial-handle=7498246347878744576,14478033313489745728,131072 --service-pipe-token=593F5184D5C8780190EFE79E86C0CDA9 --lang=en-US --enable-offline-auto-reload --enable-offline-auto-reload-visible-only --num-raster-threads=2 --enable-zero-copy --enable-gpu-memory-buffer-compositor-resources --enable-main-frame-before-activation --service-request-channel-token=593F5184D5C8780190EFE79E86C0CDA9 --renderer-client-id=8642\\n', b'chloeloughridge  43271   0.0  0.5  3297772  42388   ??  S     1:31PM   0:00.28 /Applications/Google Chrome.app/Contents/Versions/67.0.3396.99/Google Chrome Helper.app/Contents/MacOS/Google Chrome Helper --type=renderer --field-trial-handle=7498246347878744576,14478033313489745728,131072 --service-pipe-token=C7FDE84949F83622402EECD8810E979E --lang=en-US --enable-offline-auto-reload --enable-offline-auto-reload-visible-only --num-raster-threads=2 --enable-zero-copy --enable-gpu-memory-buffer-compositor-resources --enable-main-frame-before-activation --service-request-channel-token=C7FDE84949F83622402EECD8810E979E --renderer-client-id=8638\\n', b'chloeloughridge  43270   0.0  1.3  3478160 106196   ??  S     1:31PM   0:06.40 /Applications/Google Chrome.app/Contents/Versions/67.0.3396.99/Google Chrome Helper.app/Contents/MacOS/Google Chrome Helper --type=renderer --field-trial-handle=7498246347878744576,14478033313489745728,131072 --service-pipe-token=464D5457F768D1A837E2C080495E18F1 --lang=en-US --enable-offline-auto-reload --enable-offline-auto-reload-visible-only --num-raster-threads=2 --enable-zero-copy --enable-gpu-memory-buffer-compositor-resources --enable-main-frame-before-activation --service-request-channel-token=464D5457F768D1A837E2C080495E18F1 --renderer-client-id=8637\\n', b'chloeloughridge  43268   0.0  1.1  3446408  89880   ??  S     1:31PM   0:06.34 /Applications/Google Chrome.app/Contents/Versions/67.0.3396.99/Google Chrome Helper.app/Contents/MacOS/Google Chrome Helper --type=renderer --field-trial-handle=7498246347878744576,14478033313489745728,131072 --service-pipe-token=8648BDA7C9951725C68665EACFAC986D --lang=en-US --enable-offline-auto-reload --enable-offline-auto-reload-visible-only --num-raster-threads=2 --enable-zero-copy --enable-gpu-memory-buffer-compositor-resources --enable-main-frame-before-activation --service-request-channel-token=8648BDA7C9951725C68665EACFAC986D --renderer-client-id=8635\\n', b'chloeloughridge  43195   0.0  1.7 44706028 141544   ??  S     1:27PM   0:04.67 /Users/chloeloughridge/anaconda/bin/python /Users/chloeloughridge/anaconda/bin/tensorboard --logdir=logs/\\n', b'chloeloughridge  43086   0.0  1.0  3494984  80852   ??  S     1:19PM   0:14.40 /Applications/Google Chrome.app/Contents/Versions/67.0.3396.99/Google Chrome Helper.app/Contents/MacOS/Google Chrome Helper --type=renderer --field-trial-handle=7498246347878744576,14478033313489745728,131072 --service-pipe-token=89B53F07B83DB9E8327885F1D95997AA --lang=en-US --enable-offline-auto-reload --enable-offline-auto-reload-visible-only --num-raster-threads=2 --enable-zero-copy --enable-gpu-memory-buffer-compositor-resources --enable-main-frame-before-activation --service-request-channel-token=89B53F07B83DB9E8327885F1D95997AA --renderer-client-id=8613\\n']\n"
     ]
    }
   ],
   "source": [
    "# get list of running subprocesses \n",
    "import subprocess\n",
    "data = subprocess.Popen(['ps','aux'], stdout=subprocess.PIPE).stdout.readlines()\n",
    "print(data)"
   ]
  },
  {
   "cell_type": "code",
   "execution_count": 126,
   "metadata": {
    "collapsed": false
   },
   "outputs": [],
   "source": [
    "# to get the pid of a running subprocess on a given port\n",
    "!lsof -n -i4TCP:6006"
   ]
  },
  {
   "cell_type": "code",
   "execution_count": 123,
   "metadata": {
    "collapsed": false
   },
   "outputs": [
    {
     "name": "stdout",
     "output_type": "stream",
     "text": [
      "43920\n"
     ]
    }
   ],
   "source": [
    "import subprocess, signal\n",
    "proc = subprocess.Popen([\"tensorboard\", \"--logdir=logs/\"])\n",
    "print(proc.pid)"
   ]
  },
  {
   "cell_type": "code",
   "execution_count": 125,
   "metadata": {
    "collapsed": true
   },
   "outputs": [],
   "source": [
    "# killing the subprocess\n",
    "os.kill(proc.pid, signal.SIGINT)"
   ]
  },
  {
   "cell_type": "code",
   "execution_count": 144,
   "metadata": {
    "collapsed": false
   },
   "outputs": [
    {
     "name": "stdout",
     "output_type": "stream",
     "text": [
      "b'run_cifar\\nrun_mnist'\n"
     ]
    }
   ],
   "source": [
    "# viewing the folders in the logs/ directory\n",
    "command = 'cd ./logs; ls'\n",
    "process = subprocess.Popen(command, stdout=subprocess.PIPE, shell=True)\n",
    "proc_stdout = str(process.communicate()[0].strip())\n",
    "print(proc_stdout)"
   ]
  },
  {
   "cell_type": "code",
   "execution_count": 149,
   "metadata": {
    "collapsed": false
   },
   "outputs": [
    {
     "name": "stdout",
     "output_type": "stream",
     "text": [
      "1\n"
     ]
    }
   ],
   "source": [
    "import re\n",
    "pattern = 'mnist'\n",
    "n = re.findall(pattern, proc_stdout)\n",
    "print(len(n))"
   ]
  },
  {
   "cell_type": "code",
   "execution_count": 177,
   "metadata": {
    "collapsed": false
   },
   "outputs": [
    {
     "ename": "AttributeError",
     "evalue": "module 'keras.backend' has no attribute 'get_default_graph'",
     "output_type": "error",
     "traceback": [
      "\u001b[0;31m---------------------------------------------------------------------------\u001b[0m",
      "\u001b[0;31mAttributeError\u001b[0m                            Traceback (most recent call last)",
      "\u001b[0;32m<ipython-input-177-9791655e2320>\u001b[0m in \u001b[0;36m<module>\u001b[0;34m()\u001b[0m\n\u001b[1;32m      2\u001b[0m \u001b[0;32mimport\u001b[0m \u001b[0mkeras\u001b[0m\u001b[0;34m.\u001b[0m\u001b[0mbackend\u001b[0m \u001b[0;32mas\u001b[0m \u001b[0mK\u001b[0m\u001b[0;34m\u001b[0m\u001b[0m\n\u001b[1;32m      3\u001b[0m \u001b[0;34m\u001b[0m\u001b[0m\n\u001b[0;32m----> 4\u001b[0;31m \u001b[0mgraph\u001b[0m \u001b[0;34m=\u001b[0m \u001b[0mK\u001b[0m\u001b[0;34m.\u001b[0m\u001b[0mget_default_graph\u001b[0m\u001b[0;34m(\u001b[0m\u001b[0;34m)\u001b[0m\u001b[0;34m\u001b[0m\u001b[0m\n\u001b[0m",
      "\u001b[0;31mAttributeError\u001b[0m: module 'keras.backend' has no attribute 'get_default_graph'"
     ]
    }
   ],
   "source": [
    "# trying to manipulate graphs with keras backend\n",
    "import keras.backend as K\n",
    "\n",
    "graph = K.get_default_graph()"
   ]
  },
  {
   "cell_type": "code",
   "execution_count": 202,
   "metadata": {
    "collapsed": false
   },
   "outputs": [
    {
     "ename": "KeyboardInterrupt",
     "evalue": "",
     "output_type": "error",
     "traceback": [
      "\u001b[0;31m---------------------------------------------------------------------------\u001b[0m",
      "\u001b[0;31mKeyboardInterrupt\u001b[0m                         Traceback (most recent call last)",
      "\u001b[0;32m<ipython-input-202-46fe404725f0>\u001b[0m in \u001b[0;36m<module>\u001b[0;34m()\u001b[0m\n\u001b[1;32m      1\u001b[0m \u001b[0mproc\u001b[0m \u001b[0;34m=\u001b[0m \u001b[0msubprocess\u001b[0m\u001b[0;34m.\u001b[0m\u001b[0mPopen\u001b[0m\u001b[0;34m(\u001b[0m\u001b[0;34m[\u001b[0m\u001b[0;34m\"tensorboard\"\u001b[0m\u001b[0;34m,\u001b[0m \u001b[0;34m\"--logdir=logs/\"\u001b[0m\u001b[0;34m]\u001b[0m\u001b[0;34m)\u001b[0m\u001b[0;34m\u001b[0m\u001b[0m\n\u001b[0;32m----> 2\u001b[0;31m \u001b[0mproc_stdout\u001b[0m \u001b[0;34m=\u001b[0m \u001b[0mstr\u001b[0m\u001b[0;34m(\u001b[0m\u001b[0mproc\u001b[0m\u001b[0;34m.\u001b[0m\u001b[0mcommunicate\u001b[0m\u001b[0;34m(\u001b[0m\u001b[0;34m)\u001b[0m\u001b[0;34m[\u001b[0m\u001b[0;36m0\u001b[0m\u001b[0;34m]\u001b[0m\u001b[0;34m.\u001b[0m\u001b[0mstrip\u001b[0m\u001b[0;34m(\u001b[0m\u001b[0;34m)\u001b[0m\u001b[0;34m)\u001b[0m\u001b[0;34m\u001b[0m\u001b[0m\n\u001b[0m\u001b[1;32m      3\u001b[0m \u001b[0mprint\u001b[0m\u001b[0;34m(\u001b[0m\u001b[0mproc_stdout\u001b[0m\u001b[0;34m)\u001b[0m\u001b[0;34m\u001b[0m\u001b[0m\n",
      "\u001b[0;32m/Users/chloeloughridge/anaconda/lib/python3.5/subprocess.py\u001b[0m in \u001b[0;36mcommunicate\u001b[0;34m(self, input, timeout)\u001b[0m\n\u001b[1;32m    793\u001b[0m                 \u001b[0mstderr\u001b[0m \u001b[0;34m=\u001b[0m \u001b[0mself\u001b[0m\u001b[0;34m.\u001b[0m\u001b[0mstderr\u001b[0m\u001b[0;34m.\u001b[0m\u001b[0mread\u001b[0m\u001b[0;34m(\u001b[0m\u001b[0;34m)\u001b[0m\u001b[0;34m\u001b[0m\u001b[0m\n\u001b[1;32m    794\u001b[0m                 \u001b[0mself\u001b[0m\u001b[0;34m.\u001b[0m\u001b[0mstderr\u001b[0m\u001b[0;34m.\u001b[0m\u001b[0mclose\u001b[0m\u001b[0;34m(\u001b[0m\u001b[0;34m)\u001b[0m\u001b[0;34m\u001b[0m\u001b[0m\n\u001b[0;32m--> 795\u001b[0;31m             \u001b[0mself\u001b[0m\u001b[0;34m.\u001b[0m\u001b[0mwait\u001b[0m\u001b[0;34m(\u001b[0m\u001b[0;34m)\u001b[0m\u001b[0;34m\u001b[0m\u001b[0m\n\u001b[0m\u001b[1;32m    796\u001b[0m         \u001b[0;32melse\u001b[0m\u001b[0;34m:\u001b[0m\u001b[0;34m\u001b[0m\u001b[0m\n\u001b[1;32m    797\u001b[0m             \u001b[0;32mif\u001b[0m \u001b[0mtimeout\u001b[0m \u001b[0;32mis\u001b[0m \u001b[0;32mnot\u001b[0m \u001b[0;32mNone\u001b[0m\u001b[0;34m:\u001b[0m\u001b[0;34m\u001b[0m\u001b[0m\n",
      "\u001b[0;32m/Users/chloeloughridge/anaconda/lib/python3.5/subprocess.py\u001b[0m in \u001b[0;36mwait\u001b[0;34m(self, timeout, endtime)\u001b[0m\n\u001b[1;32m   1397\u001b[0m                         \u001b[0;32mif\u001b[0m \u001b[0mself\u001b[0m\u001b[0;34m.\u001b[0m\u001b[0mreturncode\u001b[0m \u001b[0;32mis\u001b[0m \u001b[0;32mnot\u001b[0m \u001b[0;32mNone\u001b[0m\u001b[0;34m:\u001b[0m\u001b[0;34m\u001b[0m\u001b[0m\n\u001b[1;32m   1398\u001b[0m                             \u001b[0;32mbreak\u001b[0m  \u001b[0;31m# Another thread waited.\u001b[0m\u001b[0;34m\u001b[0m\u001b[0m\n\u001b[0;32m-> 1399\u001b[0;31m                         \u001b[0;34m(\u001b[0m\u001b[0mpid\u001b[0m\u001b[0;34m,\u001b[0m \u001b[0msts\u001b[0m\u001b[0;34m)\u001b[0m \u001b[0;34m=\u001b[0m \u001b[0mself\u001b[0m\u001b[0;34m.\u001b[0m\u001b[0m_try_wait\u001b[0m\u001b[0;34m(\u001b[0m\u001b[0;36m0\u001b[0m\u001b[0;34m)\u001b[0m\u001b[0;34m\u001b[0m\u001b[0m\n\u001b[0m\u001b[1;32m   1400\u001b[0m                         \u001b[0;31m# Check the pid and loop as waitpid has been known to\u001b[0m\u001b[0;34m\u001b[0m\u001b[0;34m\u001b[0m\u001b[0m\n\u001b[1;32m   1401\u001b[0m                         \u001b[0;31m# return 0 even without WNOHANG in odd situations.\u001b[0m\u001b[0;34m\u001b[0m\u001b[0;34m\u001b[0m\u001b[0m\n",
      "\u001b[0;32m/Users/chloeloughridge/anaconda/lib/python3.5/subprocess.py\u001b[0m in \u001b[0;36m_try_wait\u001b[0;34m(self, wait_flags)\u001b[0m\n\u001b[1;32m   1347\u001b[0m             \u001b[0;34m\"\"\"All callers to this function MUST hold self._waitpid_lock.\"\"\"\u001b[0m\u001b[0;34m\u001b[0m\u001b[0m\n\u001b[1;32m   1348\u001b[0m             \u001b[0;32mtry\u001b[0m\u001b[0;34m:\u001b[0m\u001b[0;34m\u001b[0m\u001b[0m\n\u001b[0;32m-> 1349\u001b[0;31m                 \u001b[0;34m(\u001b[0m\u001b[0mpid\u001b[0m\u001b[0;34m,\u001b[0m \u001b[0msts\u001b[0m\u001b[0;34m)\u001b[0m \u001b[0;34m=\u001b[0m \u001b[0mos\u001b[0m\u001b[0;34m.\u001b[0m\u001b[0mwaitpid\u001b[0m\u001b[0;34m(\u001b[0m\u001b[0mself\u001b[0m\u001b[0;34m.\u001b[0m\u001b[0mpid\u001b[0m\u001b[0;34m,\u001b[0m \u001b[0mwait_flags\u001b[0m\u001b[0;34m)\u001b[0m\u001b[0;34m\u001b[0m\u001b[0m\n\u001b[0m\u001b[1;32m   1350\u001b[0m             \u001b[0;32mexcept\u001b[0m \u001b[0mChildProcessError\u001b[0m\u001b[0;34m:\u001b[0m\u001b[0;34m\u001b[0m\u001b[0m\n\u001b[1;32m   1351\u001b[0m                 \u001b[0;31m# This happens if SIGCLD is set to be ignored or waiting\u001b[0m\u001b[0;34m\u001b[0m\u001b[0;34m\u001b[0m\u001b[0m\n",
      "\u001b[0;31mKeyboardInterrupt\u001b[0m: "
     ]
    }
   ],
   "source": [
    "proc = subprocess.Popen([\"tensorboard\", \"--logdir=logs/\"])\n",
    "proc_stdout = str(proc.communicate()[0].strip())\n",
    "print(proc_stdout)"
   ]
  },
  {
   "cell_type": "code",
   "execution_count": null,
   "metadata": {
    "collapsed": true
   },
   "outputs": [],
   "source": []
  }
 ],
 "metadata": {
  "anaconda-cloud": {},
  "kernelspec": {
   "display_name": "Python [default]",
   "language": "python",
   "name": "python3"
  },
  "language_info": {
   "codemirror_mode": {
    "name": "ipython",
    "version": 3
   },
   "file_extension": ".py",
   "mimetype": "text/x-python",
   "name": "python",
   "nbconvert_exporter": "python",
   "pygments_lexer": "ipython3",
   "version": "3.5.5"
  }
 },
 "nbformat": 4,
 "nbformat_minor": 2
}
