{
 "cells": [
  {
   "cell_type": "code",
   "execution_count": 3,
   "metadata": {
    "collapsed": false
   },
   "outputs": [
    {
     "name": "stderr",
     "output_type": "stream",
     "text": [
      "Using TensorFlow backend.\n",
      "/Users/chloeloughridge/anaconda/lib/python3.5/importlib/_bootstrap.py:222: RuntimeWarning: compiletime version 3.6 of module 'tensorflow.python.framework.fast_tensor_util' does not match runtime version 3.5\n",
      "  return f(*args, **kwds)\n"
     ]
    }
   ],
   "source": [
    "# the goal in this notebook is to visualize the filters of the simple CNN model\n",
    "\n",
    "# import libraries necessary for building the CNN\n",
    "import numpy as np\n",
    "import keras\n",
    "from keras.layers import Input, Conv2D, Dense, Activation, Flatten\n",
    "from keras.models import Sequential\n",
    "from keras.datasets import mnist"
   ]
  },
  {
   "cell_type": "code",
   "execution_count": 4,
   "metadata": {
    "collapsed": false
   },
   "outputs": [],
   "source": [
    "# for plotting the model\n",
    "# !pip install pydot\n",
    "import pydot\n",
    "from IPython.display import SVG\n",
    "from keras.utils.vis_utils import model_to_dot\n",
    "from keras.utils import plot_model\n",
    "import matplotlib.pyplot as plt\n",
    "from matplotlib.pyplot import imshow"
   ]
  },
  {
   "cell_type": "code",
   "execution_count": null,
   "metadata": {
    "collapsed": true
   },
   "outputs": [],
   "source": [
    "# important variables\n",
    "num_classes = 10 # one for each of the digits from 0-9\n",
    "batch_size = 128 #tunable number\n",
    "epochs = 13 #tunable number"
   ]
  },
  {
   "cell_type": "code",
   "execution_count": null,
   "metadata": {
    "collapsed": false
   },
   "outputs": [],
   "source": [
    "# import mnist data from keras\n",
    "(X_train, Y_train), (X_test, Y_test) = mnist.load_data()\n",
    "\n",
    "# reshape the x data do it's 4 dimensional --> the last dimension represents color channels\n",
    "X_train = X_train.reshape(X_train.shape[0], 28, 28, 1)\n",
    "X_test = X_test.reshape(X_test.shape[0], 28, 28, 1)\n",
    "\n",
    "# we need to normalize the X data before feeding into our model\n",
    "X_train = X_train/255\n",
    "X_test = X_test/255\n",
    "\n",
    "# we also need to convert the Y data into one-hot vectors\n",
    "Y_train = keras.utils.to_categorical(Y_train, num_classes)\n",
    "Y_test = keras.utils.to_categorical(Y_test, num_classes)\n"
   ]
  },
  {
   "cell_type": "code",
   "execution_count": null,
   "metadata": {
    "collapsed": false
   },
   "outputs": [],
   "source": [
    "# building the architecture of the convolutional model\n",
    "model = Sequential() #this will allow us to build a linear stack of layers --> hmmm is this restrictive in any way?\n",
    "                    # we may not want to limit folks to only a linear stack of layers, because this could\n",
    "                    # prevent them from making cool skip connections and stuff like that . . . something to consider\n",
    "model.add(Conv2D(32, kernel_size=(3,3), activation='relu', input_shape = (28,28, 1)))\n",
    "model.add(Flatten())\n",
    "model.add(Dense(num_classes, activation='softmax'))"
   ]
  },
  {
   "cell_type": "code",
   "execution_count": null,
   "metadata": {
    "collapsed": false
   },
   "outputs": [],
   "source": [
    "# compile the model\n",
    "model.compile(loss=keras.losses.categorical_crossentropy,\n",
    "             optimizer=keras.optimizers.Adam(),\n",
    "             metrics=['accuracy'])"
   ]
  },
  {
   "cell_type": "code",
   "execution_count": null,
   "metadata": {
    "collapsed": false
   },
   "outputs": [],
   "source": [
    "# train the model on the training data\n",
    "model.fit(X_train, Y_train, batch_size = batch_size, epochs=epochs, verbose=1, validation_data=(X_test, Y_test))"
   ]
  },
  {
   "cell_type": "code",
   "execution_count": 5,
   "metadata": {
    "collapsed": false
   },
   "outputs": [],
   "source": [
    "model = keras.models.load_model(\"./CNN01\")"
   ]
  },
  {
   "cell_type": "code",
   "execution_count": 6,
   "metadata": {
    "collapsed": false
   },
   "outputs": [
    {
     "data": {
      "image/svg+xml": [
       "<svg height=\"264pt\" viewBox=\"0.00 0.00 184.58 264.00\" width=\"185pt\" xmlns=\"http://www.w3.org/2000/svg\" xmlns:xlink=\"http://www.w3.org/1999/xlink\">\n",
       "<g class=\"graph\" id=\"graph0\" transform=\"scale(1 1) rotate(0) translate(4 260)\">\n",
       "<title>G</title>\n",
       "<polygon fill=\"#ffffff\" points=\"-4,4 -4,-260 180.5762,-260 180.5762,4 -4,4\" stroke=\"transparent\"/>\n",
       "<!-- 47649516400 -->\n",
       "<g class=\"node\" id=\"node1\">\n",
       "<title>47649516400</title>\n",
       "<polygon fill=\"none\" points=\"0,-219.5 0,-255.5 176.5762,-255.5 176.5762,-219.5 0,-219.5\" stroke=\"#000000\"/>\n",
       "<text fill=\"#000000\" font-family=\"Times,serif\" font-size=\"14.00\" text-anchor=\"middle\" x=\"88.2881\" y=\"-233.3\">conv2d_3_input: InputLayer</text>\n",
       "</g>\n",
       "<!-- 47649516344 -->\n",
       "<g class=\"node\" id=\"node2\">\n",
       "<title>47649516344</title>\n",
       "<polygon fill=\"none\" points=\"25.2622,-146.5 25.2622,-182.5 151.314,-182.5 151.314,-146.5 25.2622,-146.5\" stroke=\"#000000\"/>\n",
       "<text fill=\"#000000\" font-family=\"Times,serif\" font-size=\"14.00\" text-anchor=\"middle\" x=\"88.2881\" y=\"-160.3\">conv2d_3: Conv2D</text>\n",
       "</g>\n",
       "<!-- 47649516400&#45;&gt;47649516344 -->\n",
       "<g class=\"edge\" id=\"edge1\">\n",
       "<title>47649516400-&gt;47649516344</title>\n",
       "<path d=\"M88.2881,-219.4551C88.2881,-211.3828 88.2881,-201.6764 88.2881,-192.6817\" fill=\"none\" stroke=\"#000000\"/>\n",
       "<polygon fill=\"#000000\" points=\"91.7882,-192.5903 88.2881,-182.5904 84.7882,-192.5904 91.7882,-192.5903\" stroke=\"#000000\"/>\n",
       "</g>\n",
       "<!-- 47649517184 -->\n",
       "<g class=\"node\" id=\"node3\">\n",
       "<title>47649517184</title>\n",
       "<polygon fill=\"none\" points=\"32.6553,-73.5 32.6553,-109.5 143.9209,-109.5 143.9209,-73.5 32.6553,-73.5\" stroke=\"#000000\"/>\n",
       "<text fill=\"#000000\" font-family=\"Times,serif\" font-size=\"14.00\" text-anchor=\"middle\" x=\"88.2881\" y=\"-87.3\">flatten_3: Flatten</text>\n",
       "</g>\n",
       "<!-- 47649516344&#45;&gt;47649517184 -->\n",
       "<g class=\"edge\" id=\"edge2\">\n",
       "<title>47649516344-&gt;47649517184</title>\n",
       "<path d=\"M88.2881,-146.4551C88.2881,-138.3828 88.2881,-128.6764 88.2881,-119.6817\" fill=\"none\" stroke=\"#000000\"/>\n",
       "<polygon fill=\"#000000\" points=\"91.7882,-119.5903 88.2881,-109.5904 84.7882,-119.5904 91.7882,-119.5903\" stroke=\"#000000\"/>\n",
       "</g>\n",
       "<!-- 47649626376 -->\n",
       "<g class=\"node\" id=\"node4\">\n",
       "<title>47649626376</title>\n",
       "<polygon fill=\"none\" points=\"36.1621,-.5 36.1621,-36.5 140.4141,-36.5 140.4141,-.5 36.1621,-.5\" stroke=\"#000000\"/>\n",
       "<text fill=\"#000000\" font-family=\"Times,serif\" font-size=\"14.00\" text-anchor=\"middle\" x=\"88.2881\" y=\"-14.3\">dense_3: Dense</text>\n",
       "</g>\n",
       "<!-- 47649517184&#45;&gt;47649626376 -->\n",
       "<g class=\"edge\" id=\"edge3\">\n",
       "<title>47649517184-&gt;47649626376</title>\n",
       "<path d=\"M88.2881,-73.4551C88.2881,-65.3828 88.2881,-55.6764 88.2881,-46.6817\" fill=\"none\" stroke=\"#000000\"/>\n",
       "<polygon fill=\"#000000\" points=\"91.7882,-46.5903 88.2881,-36.5904 84.7882,-46.5904 91.7882,-46.5903\" stroke=\"#000000\"/>\n",
       "</g>\n",
       "</g>\n",
       "</svg>"
      ],
      "text/plain": [
       "<IPython.core.display.SVG object>"
      ]
     },
     "execution_count": 6,
     "metadata": {},
     "output_type": "execute_result"
    }
   ],
   "source": [
    "#import pydot\n",
    "#plot_model(model, to_file='model01.png')\n",
    "SVG(model_to_dot(model).create(prog='dot', format=\"svg\"))"
   ]
  },
  {
   "cell_type": "code",
   "execution_count": 7,
   "metadata": {
    "collapsed": false
   },
   "outputs": [],
   "source": [
    "# going to visualize the filters of the model  . . . \n",
    "# inspiration from here: https://blog.keras.io/how-convolutional-neural-networks-see-the-world.html\n",
    "\n",
    "# create a dictionary of the model's layers\n",
    "layer_dict = dict([(layer.name, layer) for layer in model.layers])"
   ]
  },
  {
   "cell_type": "code",
   "execution_count": 166,
   "metadata": {
    "collapsed": false
   },
   "outputs": [
    {
     "name": "stdout",
     "output_type": "stream",
     "text": [
      "Tensor(\"gradients_40/conv2d_3/convolution_grad/Conv2DBackpropInput:0\", shape=(?, 28, 28, 1), dtype=float32)\n"
     ]
    }
   ],
   "source": [
    "from keras import backend as K #the backend in this case is tensorflow, since keras is sitting on top of it\n",
    "                                #so importing the \"backend\" will allow us to write code in tensorflow that keras\n",
    "                                #will be able to use for our model\n",
    "        \n",
    "#we'll be sending in an image the size of one of the MNIST images\n",
    "img_width = 28\n",
    "img_height = 28\n",
    "        \n",
    "layer_name = \"conv2d_3\"\n",
    "filter_index = 0 #there are 32 filters, so this could be any number in the range 0-31\n",
    "\n",
    "# create a loss function that we will use to maximize the activation of the specified layer\n",
    "layer_output = layer_dict[layer_name].output # accesing the output of the specified layer stored in our dictionary\n",
    "loss = K.mean(layer_output[:,:,:, filter_index]) # averaging all the outputs of the filter --> remember that the filter\n",
    "                                                # is a 2-D \"square\" --> the middle two numbers represent height/width\n",
    "                                                # of that square, the first number represents batch size, and the \n",
    "                                                # final number represents the number of filters (we're accessing a\n",
    "                                                # specific one here)\n",
    "# compute the gradient of the input picture with respect to this loss.\n",
    "# this means we'll be updating the pixels of the input image, not the weights of the network --> clever!\n",
    "grads = K.gradients(loss, model.input)[0] # I don't know what the [0] means at the end of this line\n",
    "print(grads)\n",
    "\n",
    "# normalizing the gradient --> we don't want the magnitude of our gradient ascent/descent step to be infuenced heavily \n",
    "# by the gradient --> the gradient gives us the direction we want to take --> so normalizing helps the optimization\n",
    "# algorithm perform better\n",
    "grads /= (K.sqrt(K.mean(K.square(grads))) + 1e-5)\n",
    "\n",
    "iterate = K.function([model.input], [loss, grads]) # this is a fancy way of writing a custom function that takes\n",
    "                                                # an input image as an input, and returns the loss and gradients\n",
    "                                                # for that image\n"
   ]
  },
  {
   "cell_type": "code",
   "execution_count": 167,
   "metadata": {
    "collapsed": false
   },
   "outputs": [],
   "source": [
    "# running gradient ascent to maximize the activations of the filter\n",
    "\n",
    "# generating a grey test image\n",
    "input_img = np.random.random((1, img_width, img_height, 1)) * 20 + 128.\n",
    "\n",
    "# Choosing an arbitrary value for \"step\" --> pretty sure this is like the learning rate\n",
    "step = 5\n",
    "\n",
    "# 20 steps of gradient ascent\n",
    "for i in range(50):\n",
    "    loss_value, grads_value = iterate([input_img])\n",
    "    input_img += grads_value * step\n"
   ]
  },
  {
   "cell_type": "code",
   "execution_count": 168,
   "metadata": {
    "collapsed": true
   },
   "outputs": [],
   "source": [
    "# creating a function to deprocess the image \n",
    "from scipy.misc import imsave\n",
    "\n",
    "# util function to convert a tensor into a valid image\n",
    "def deprocess_image(x):\n",
    "    # normalize tensor: center on 0., ensure std is 0.1\n",
    "    x -= x.mean()\n",
    "    x /= (x.std() + 1e-5)\n",
    "    x *= 0.1\n",
    "\n",
    "    # clip to [0, 1]\n",
    "    x += 0.5\n",
    "    x = np.clip(x, 0, 1)\n",
    "\n",
    "    # convert to black/white representation\n",
    "    x *= 255\n",
    "    #x = x.transpose((1, 2, 0))\n",
    "    x = np.clip(x, 0, 255).astype('uint8')\n",
    "    return x\n"
   ]
  },
  {
   "cell_type": "code",
   "execution_count": 169,
   "metadata": {
    "collapsed": false
   },
   "outputs": [
    {
     "name": "stdout",
     "output_type": "stream",
     "text": [
      "(1, 28, 28, 1)\n"
     ]
    },
    {
     "data": {
      "image/png": "[encoded data removed]",
      "text/plain": [
       "<Figure size 432x288 with 1 Axes>"
      ]
     },
     "metadata": {},
     "output_type": "display_data"
    }
   ],
   "source": [
    "# saving the image as a file\n",
    "img = input_img\n",
    "img = deprocess_image(img)\n",
    "\n",
    "# the imsave approach\n",
    "#imsave('%s_filter_%d.png' % (layer_name, filter_index), img)\n",
    "print(img.shape)\n",
    "\n",
    "\n",
    "# the matplotlib approach\n",
    "import matplotlib.pyplot as plt\n",
    "plt.imshow(img.squeeze())\n",
    "plt.show()"
   ]
  },
  {
   "cell_type": "code",
   "execution_count": null,
   "metadata": {
    "collapsed": true
   },
   "outputs": [],
   "source": []
  },
  {
   "cell_type": "code",
   "execution_count": null,
   "metadata": {
    "collapsed": true
   },
   "outputs": [],
   "source": []
  }
 ],
 "metadata": {
  "anaconda-cloud": {},
  "kernelspec": {
   "display_name": "Python [default]",
   "language": "python",
   "name": "python3"
  },
  "language_info": {
   "codemirror_mode": {
    "name": "ipython",
    "version": 3
   },
   "file_extension": ".py",
   "mimetype": "text/x-python",
   "name": "python",
   "nbconvert_exporter": "python",
   "pygments_lexer": "ipython3",
   "version": "3.5.2"
  }
 },
 "nbformat": 4,
 "nbformat_minor": 2
}
