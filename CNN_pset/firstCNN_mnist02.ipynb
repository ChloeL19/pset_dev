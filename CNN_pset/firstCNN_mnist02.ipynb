{
 "cells": [
  {
   "cell_type": "code",
   "execution_count": null,
   "metadata": {
    "collapsed": false
   },
   "outputs": [],
   "source": [
    "# the goal in this notebook is to visualize the keras model\n",
    "\n",
    "# import libraries necessary for building the CNN\n",
    "import numpy as np\n",
    "import keras\n",
    "from keras.layers import Input, Conv2D, Dense, Activation, Flatten\n",
    "from keras.models import Sequential\n",
    "from keras.datasets import mnist"
   ]
  },
  {
   "cell_type": "code",
   "execution_count": null,
   "metadata": {
    "collapsed": false
   },
   "outputs": [],
   "source": [
    "# for plotting the model\n",
    "# !pip install pydot\n",
    "import pydot\n",
    "from IPython.display import SVG\n",
    "from keras.utils.vis_utils import model_to_dot\n",
    "from keras.utils import plot_model\n",
    "import matplotlib.pyplot as plt\n",
    "from matplotlib.pyplot import imshow"
   ]
  },
  {
   "cell_type": "code",
   "execution_count": null,
   "metadata": {
    "collapsed": true
   },
   "outputs": [],
   "source": [
    "# important variables\n",
    "num_classes = 10 # one for each of the digits from 0-9\n",
    "batch_size = 128 #tunable number\n",
    "epochs = 13 #tunable number"
   ]
  },
  {
   "cell_type": "code",
   "execution_count": null,
   "metadata": {
    "collapsed": false
   },
   "outputs": [],
   "source": [
    "# import mnist data from keras\n",
    "(X_train, Y_train), (X_test, Y_test) = mnist.load_data()\n",
    "\n",
    "# reshape the x data do it's 4 dimensional --> I think the last dimension represents color channels\n",
    "X_train = X_train.reshape(X_train.shape[0], 28, 28, 1)\n",
    "X_test = X_test.reshape(X_test.shape[0], 28, 28, 1)\n",
    "\n",
    "# we need to normalize the X data before feeding into our model\n",
    "X_train = X_train/255\n",
    "X_test = X_test/255\n",
    "\n",
    "# we also need to convert the Y data into one-hot vectors\n",
    "Y_train = keras.utils.to_categorical(Y_train, num_classes)\n",
    "Y_test = keras.utils.to_categorical(Y_test, num_classes)\n"
   ]
  },
  {
   "cell_type": "code",
   "execution_count": null,
   "metadata": {
    "collapsed": false
   },
   "outputs": [],
   "source": [
    "# building the architecture of the convolutional model\n",
    "model = Sequential() #this will allow us to build a linear stack of layers --> hmmm is this restrictive in any way?\n",
    "                    # we may not want to limit folks to only a linear stack of layers, because this could\n",
    "                    # prevent them from making cool skip connections and stuff like that . . . something to consider\n",
    "model.add(Conv2D(32, kernel_size=(3,3), activation='relu', input_shape = (28,28, 1)))\n",
    "model.add(Flatten())\n",
    "model.add(Dense(num_classes, activation='softmax'))"
   ]
  },
  {
   "cell_type": "code",
   "execution_count": null,
   "metadata": {
    "collapsed": false
   },
   "outputs": [],
   "source": [
    "# compile the model\n",
    "model.compile(loss=keras.losses.categorical_crossentropy,\n",
    "             optimizer=keras.optimizers.Adam(),\n",
    "             metrics=['accuracy'])"
   ]
  },
  {
   "cell_type": "code",
   "execution_count": null,
   "metadata": {
    "collapsed": false
   },
   "outputs": [],
   "source": [
    "# train the model on the training data\n",
    "model.fit(X_train, Y_train, batch_size = batch_size, epochs=epochs, verbose=1, validation_data=(X_test, Y_test))"
   ]
  },
  {
   "cell_type": "code",
   "execution_count": 6,
   "metadata": {
    "collapsed": false
   },
   "outputs": [],
   "source": [
    "model = keras.models.load_model(\"./CNN01\")"
   ]
  },
  {
   "cell_type": "code",
   "execution_count": 7,
   "metadata": {
    "collapsed": false
   },
   "outputs": [
    {
     "data": {
      "image/svg+xml": [
       "<svg height=\"264pt\" viewBox=\"0.00 0.00 184.58 264.00\" width=\"185pt\" xmlns=\"http://www.w3.org/2000/svg\" xmlns:xlink=\"http://www.w3.org/1999/xlink\">\n",
       "<g class=\"graph\" id=\"graph0\" transform=\"scale(1 1) rotate(0) translate(4 260)\">\n",
       "<title>G</title>\n",
       "<polygon fill=\"#ffffff\" points=\"-4,4 -4,-260 180.5762,-260 180.5762,4 -4,4\" stroke=\"transparent\"/>\n",
       "<!-- 47670023056 -->\n",
       "<g class=\"node\" id=\"node1\">\n",
       "<title>47670023056</title>\n",
       "<polygon fill=\"none\" points=\"0,-219.5 0,-255.5 176.5762,-255.5 176.5762,-219.5 0,-219.5\" stroke=\"#000000\"/>\n",
       "<text fill=\"#000000\" font-family=\"Times,serif\" font-size=\"14.00\" text-anchor=\"middle\" x=\"88.2881\" y=\"-233.3\">conv2d_3_input: InputLayer</text>\n",
       "</g>\n",
       "<!-- 47670023000 -->\n",
       "<g class=\"node\" id=\"node2\">\n",
       "<title>47670023000</title>\n",
       "<polygon fill=\"none\" points=\"25.2622,-146.5 25.2622,-182.5 151.314,-182.5 151.314,-146.5 25.2622,-146.5\" stroke=\"#000000\"/>\n",
       "<text fill=\"#000000\" font-family=\"Times,serif\" font-size=\"14.00\" text-anchor=\"middle\" x=\"88.2881\" y=\"-160.3\">conv2d_3: Conv2D</text>\n",
       "</g>\n",
       "<!-- 47670023056&#45;&gt;47670023000 -->\n",
       "<g class=\"edge\" id=\"edge1\">\n",
       "<title>47670023056-&gt;47670023000</title>\n",
       "<path d=\"M88.2881,-219.4551C88.2881,-211.3828 88.2881,-201.6764 88.2881,-192.6817\" fill=\"none\" stroke=\"#000000\"/>\n",
       "<polygon fill=\"#000000\" points=\"91.7882,-192.5903 88.2881,-182.5904 84.7882,-192.5904 91.7882,-192.5903\" stroke=\"#000000\"/>\n",
       "</g>\n",
       "<!-- 47670026080 -->\n",
       "<g class=\"node\" id=\"node3\">\n",
       "<title>47670026080</title>\n",
       "<polygon fill=\"none\" points=\"32.6553,-73.5 32.6553,-109.5 143.9209,-109.5 143.9209,-73.5 32.6553,-73.5\" stroke=\"#000000\"/>\n",
       "<text fill=\"#000000\" font-family=\"Times,serif\" font-size=\"14.00\" text-anchor=\"middle\" x=\"88.2881\" y=\"-87.3\">flatten_3: Flatten</text>\n",
       "</g>\n",
       "<!-- 47670023000&#45;&gt;47670026080 -->\n",
       "<g class=\"edge\" id=\"edge2\">\n",
       "<title>47670023000-&gt;47670026080</title>\n",
       "<path d=\"M88.2881,-146.4551C88.2881,-138.3828 88.2881,-128.6764 88.2881,-119.6817\" fill=\"none\" stroke=\"#000000\"/>\n",
       "<polygon fill=\"#000000\" points=\"91.7882,-119.5903 88.2881,-109.5904 84.7882,-119.5904 91.7882,-119.5903\" stroke=\"#000000\"/>\n",
       "</g>\n",
       "<!-- 47670051840 -->\n",
       "<g class=\"node\" id=\"node4\">\n",
       "<title>47670051840</title>\n",
       "<polygon fill=\"none\" points=\"36.1621,-.5 36.1621,-36.5 140.4141,-36.5 140.4141,-.5 36.1621,-.5\" stroke=\"#000000\"/>\n",
       "<text fill=\"#000000\" font-family=\"Times,serif\" font-size=\"14.00\" text-anchor=\"middle\" x=\"88.2881\" y=\"-14.3\">dense_3: Dense</text>\n",
       "</g>\n",
       "<!-- 47670026080&#45;&gt;47670051840 -->\n",
       "<g class=\"edge\" id=\"edge3\">\n",
       "<title>47670026080-&gt;47670051840</title>\n",
       "<path d=\"M88.2881,-73.4551C88.2881,-65.3828 88.2881,-55.6764 88.2881,-46.6817\" fill=\"none\" stroke=\"#000000\"/>\n",
       "<polygon fill=\"#000000\" points=\"91.7882,-46.5903 88.2881,-36.5904 84.7882,-46.5904 91.7882,-46.5903\" stroke=\"#000000\"/>\n",
       "</g>\n",
       "</g>\n",
       "</svg>"
      ],
      "text/plain": [
       "<IPython.core.display.SVG object>"
      ]
     },
     "execution_count": 7,
     "metadata": {},
     "output_type": "execute_result"
    }
   ],
   "source": [
    "#import pydot\n",
    "#plot_model(model, to_file='model01.png')\n",
    "SVG(model_to_dot(model).create(prog='dot', format=\"svg\"))"
   ]
  },
  {
   "cell_type": "code",
   "execution_count": null,
   "metadata": {
    "collapsed": true
   },
   "outputs": [],
   "source": []
  }
 ],
 "metadata": {
  "anaconda-cloud": {},
  "kernelspec": {
   "display_name": "Python [default]",
   "language": "python",
   "name": "python3"
  },
  "language_info": {
   "codemirror_mode": {
    "name": "ipython",
    "version": 3
   },
   "file_extension": ".py",
   "mimetype": "text/x-python",
   "name": "python",
   "nbconvert_exporter": "python",
   "pygments_lexer": "ipython3",
   "version": "3.5.2"
  }
 },
 "nbformat": 4,
 "nbformat_minor": 2
}
